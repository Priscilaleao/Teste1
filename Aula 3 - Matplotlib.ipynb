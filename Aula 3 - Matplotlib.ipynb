{
 "cells": [
  {
   "cell_type": "markdown",
   "id": "de0fac3c",
   "metadata": {
    "id": "de0fac3c"
   },
   "source": [
    "# Módulo 4 - Técnicas de Programação II\n",
    "\n",
    "## Aula 3\n",
    "- Gráficos com Matplotlib\n",
    "- Exercícios"
   ]
  },
  {
   "cell_type": "markdown",
   "id": "118d0b68",
   "metadata": {
    "id": "118d0b68"
   },
   "source": [
    "## Gráficos com Matplotlib\n",
    "O matplotlib é uma biblioteca com recursos para a geração de gráficos 2D a partir de arrays. Gráficos comuns podem ser criados com alta qualidade a partir de comandos simples, inspirados nos comandos gráficos do MATLAB.  \n",
    "Devido a sua alta qualidade e simplicidade de uso é a biblioteca gráfica mais popular para análise de dados. \n",
    "  \n",
    "**Documentação**: https://matplotlib.org/"
   ]
  },
  {
   "cell_type": "markdown",
   "id": "cf8dade5",
   "metadata": {
    "id": "cf8dade5"
   },
   "source": [
    "### Instalação\n",
    "Caso já tenha instalado o pacote do **Matplotlib** ou está na dúvida, basta rodar o seguinte código:"
   ]
  },
  {
   "cell_type": "code",
   "execution_count": null,
   "id": "e9a8552e",
   "metadata": {
    "id": "e9a8552e"
   },
   "outputs": [],
   "source": [
    "import matplotlib"
   ]
  },
  {
   "cell_type": "markdown",
   "id": "61dec06c",
   "metadata": {
    "id": "61dec06c"
   },
   "source": [
    "Se este código não rodou por erro ou se você não possui este pacote, para obtê-lo é simples, rode a célula abaixo"
   ]
  },
  {
   "cell_type": "code",
   "execution_count": null,
   "id": "c653de59",
   "metadata": {
    "colab": {
     "base_uri": "https://localhost:8080/"
    },
    "executionInfo": {
     "elapsed": 3613,
     "status": "ok",
     "timestamp": 1663938082817,
     "user": {
      "displayName": "Pablo Bizzi",
      "userId": "14371154040405520361"
     },
     "user_tz": 180
    },
    "id": "c653de59",
    "outputId": "85f821bc-270a-4c88-b043-8f06e178ab56"
   },
   "outputs": [
    {
     "name": "stdout",
     "output_type": "stream",
     "text": [
      "Looking in indexes: https://pypi.org/simple, https://us-python.pkg.dev/colab-wheels/public/simple/\n",
      "Requirement already satisfied: matplotlib in /usr/local/lib/python3.7/dist-packages (3.2.2)\n",
      "Requirement already satisfied: pyparsing!=2.0.4,!=2.1.2,!=2.1.6,>=2.0.1 in /usr/local/lib/python3.7/dist-packages (from matplotlib) (3.0.9)\n",
      "Requirement already satisfied: cycler>=0.10 in /usr/local/lib/python3.7/dist-packages (from matplotlib) (0.11.0)\n",
      "Requirement already satisfied: kiwisolver>=1.0.1 in /usr/local/lib/python3.7/dist-packages (from matplotlib) (1.4.4)\n",
      "Requirement already satisfied: python-dateutil>=2.1 in /usr/local/lib/python3.7/dist-packages (from matplotlib) (2.8.2)\n",
      "Requirement already satisfied: numpy>=1.11 in /usr/local/lib/python3.7/dist-packages (from matplotlib) (1.21.6)\n",
      "Requirement already satisfied: typing-extensions in /usr/local/lib/python3.7/dist-packages (from kiwisolver>=1.0.1->matplotlib) (4.1.1)\n",
      "Requirement already satisfied: six>=1.5 in /usr/local/lib/python3.7/dist-packages (from python-dateutil>=2.1->matplotlib) (1.15.0)\n"
     ]
    }
   ],
   "source": [
    "!pip install matplotlib"
   ]
  },
  {
   "cell_type": "markdown",
   "id": "3dc1016e",
   "metadata": {
    "id": "3dc1016e"
   },
   "source": [
    "### Import da biblioteca\n",
    "  \n",
    "Para utilizarmos o matplotlib importamos o submódulo **pyplot** conforme podem observar na célula abaixo."
   ]
  },
  {
   "cell_type": "code",
   "execution_count": null,
   "id": "e5a2ef68",
   "metadata": {
    "id": "e5a2ef68"
   },
   "outputs": [],
   "source": [
    "import matplotlib.pyplot as plt"
   ]
  },
  {
   "cell_type": "markdown",
   "id": "9064be32",
   "metadata": {
    "id": "9064be32"
   },
   "source": [
    "O conjunto de funções disponível em **matplotlib.pyplot** permite a criação de uma figura, uma área para exibir o gráfico na figura, desenho de linhas na área do gráfico, decoração do gráfico com rótulos, etc. A sintaxe utilizada é semelhante ao MATLAB.  \n",
    "   \n",
    "Para simplificar o trabalho ainda mais, o pyplot já inicia com uma figura e área de desenho padrão, que você não precisa definir, e assim o código para gerar um gráfico pode ser simplesmente:"
   ]
  },
  {
   "cell_type": "code",
   "execution_count": null,
   "id": "d7b45a0d",
   "metadata": {
    "colab": {
     "base_uri": "https://localhost:8080/",
     "height": 265
    },
    "executionInfo": {
     "elapsed": 753,
     "status": "ok",
     "timestamp": 1663972418329,
     "user": {
      "displayName": "Pablo Bizzi",
      "userId": "14371154040405520361"
     },
     "user_tz": 180
    },
    "id": "d7b45a0d",
    "outputId": "d37109e1-e93d-41a2-86c4-31820d03e6a2"
   },
   "outputs": [
    {
     "data": {
      "image/png": "[encoded data removed]",
      "text/plain": [
       "<Figure size 432x288 with 1 Axes>"
      ]
     },
     "metadata": {
      "needs_background": "light"
     },
     "output_type": "display_data"
    }
   ],
   "source": [
    "a = [1, 2, 3, 4, 5 ,6]\n",
    "b = [10, 5, 3, 4, 6, 8]\n",
    "plt.plot(a, b)\n",
    "plt.show()"
   ]
  },
  {
   "cell_type": "markdown",
   "id": "e7fee332",
   "metadata": {
    "id": "e7fee332"
   },
   "source": [
    "Para não haver necessidade de rodar o comando **plt.show()** em todas as plotagens de gráficos utilizamos uma função mágica do matplotlib cujo objetivo é de que a saída dos comandos de plotagem é exibida em linha diretamente abaixo da célula de código que o produziu."
   ]
  },
  {
   "cell_type": "code",
   "execution_count": null,
   "id": "7df18f83",
   "metadata": {
    "id": "7df18f83"
   },
   "outputs": [],
   "source": [
    "%matplotlib inline"
   ]
  },
  {
   "cell_type": "markdown",
   "id": "61e83b01",
   "metadata": {
    "id": "61e83b01"
   },
   "source": [
    "Vamos importar também outros pacotes padrões"
   ]
  },
  {
   "cell_type": "code",
   "execution_count": null,
   "id": "fa8b4261",
   "metadata": {
    "id": "fa8b4261"
   },
   "outputs": [],
   "source": [
    "import pandas as pd\n",
    "import numpy as np"
   ]
  },
  {
   "cell_type": "markdown",
   "id": "e2774ed2",
   "metadata": {
    "id": "e2774ed2"
   },
   "source": [
    "## Scatter (dispersão)\n",
    "**Documentação**: https://matplotlib.org/stable/api/_as_gen/matplotlib.pyplot.scatter.html"
   ]
  },
  {
   "cell_type": "code",
   "execution_count": null,
   "id": "4dcbab53",
   "metadata": {
    "colab": {
     "base_uri": "https://localhost:8080/",
     "height": 334
    },
    "executionInfo": {
     "elapsed": 477,
     "status": "ok",
     "timestamp": 1663972567961,
     "user": {
      "displayName": "Pablo Bizzi",
      "userId": "14371154040405520361"
     },
     "user_tz": 180
    },
    "id": "4dcbab53",
    "outputId": "0aedd317-7b7b-4382-e2a9-81bb83a66c0e"
   },
   "outputs": [
    {
     "name": "stdout",
     "output_type": "stream",
     "text": [
      "[0.22821338 0.28886587 0.2509458  0.47295058 0.42333685 0.93018009\n",
      " 0.04231314 0.17880863 0.72007727 0.01285356]\n",
      "[0.93622323 0.1492296  0.70641613 0.38265602 0.8330579  0.9076441\n",
      " 0.99457049 0.20681541 0.55405657 0.98695121]\n"
     ]
    },
    {
     "data": {
      "image/png": "[encoded data removed]",
      "text/plain": [
       "<Figure size 432x288 with 1 Axes>"
      ]
     },
     "metadata": {
      "needs_background": "light"
     },
     "output_type": "display_data"
    }
   ],
   "source": [
    "x = np.random.rand(10)\n",
    "y = np.random.rand(10)\n",
    "print(x)\n",
    "print(y)\n",
    "#color = [1, 1, 2, 2, 2, 2, 3, 4, 1, 4]\n",
    "plt.scatter(x=x, y=y);"
   ]
  },
  {
   "cell_type": "markdown",
   "id": "561c0822",
   "metadata": {
    "id": "561c0822"
   },
   "source": [
    "Importando o dataset dos pinguins"
   ]
  },
  {
   "cell_type": "code",
   "execution_count": null,
   "id": "b204e867",
   "metadata": {
    "colab": {
     "base_uri": "https://localhost:8080/",
     "height": 206
    },
    "executionInfo": {
     "elapsed": 392,
     "status": "ok",
     "timestamp": 1663972592230,
     "user": {
      "displayName": "Pablo Bizzi",
      "userId": "14371154040405520361"
     },
     "user_tz": 180
    },
    "id": "b204e867",
    "outputId": "c44dfbd8-2320-4e18-ac31-2e676d3e8dab"
   },
   "outputs": [
    {
     "data": {
      "text/html": [
       "\n",
       "  <div id=\"df-db287f25-61c7-49d1-9ef4-9494865a5ce5\">\n",
       "    <div class=\"colab-df-container\">\n",
       "      <div>\n",
       "<style scoped>\n",
       "    .dataframe tbody tr th:only-of-type {\n",
       "        vertical-align: middle;\n",
       "    }\n",
       "\n",
       "    .dataframe tbody tr th {\n",
       "        vertical-align: top;\n",
       "    }\n",
       "\n",
       "    .dataframe thead th {\n",
       "        text-align: right;\n",
       "    }\n",
       "</style>\n",
       "<table border=\"1\" class=\"dataframe\">\n",
       "  <thead>\n",
       "    <tr style=\"text-align: right;\">\n",
       "      <th></th>\n",
       "      <th>species</th>\n",
       "      <th>island</th>\n",
       "      <th>culmen_length_mm</th>\n",
       "      <th>culmen_depth_mm</th>\n",
       "      <th>flipper_length_mm</th>\n",
       "      <th>body_mass_g</th>\n",
       "      <th>sex</th>\n",
       "    </tr>\n",
       "  </thead>\n",
       "  <tbody>\n",
       "    <tr>\n",
       "      <th>0</th>\n",
       "      <td>Adelie</td>\n",
       "      <td>Torgersen</td>\n",
       "      <td>39.1</td>\n",
       "      <td>18.7</td>\n",
       "      <td>181.0</td>\n",
       "      <td>3750.0</td>\n",
       "      <td>MALE</td>\n",
       "    </tr>\n",
       "    <tr>\n",
       "      <th>1</th>\n",
       "      <td>Adelie</td>\n",
       "      <td>Torgersen</td>\n",
       "      <td>39.5</td>\n",
       "      <td>17.4</td>\n",
       "      <td>186.0</td>\n",
       "      <td>3800.0</td>\n",
       "      <td>FEMALE</td>\n",
       "    </tr>\n",
       "    <tr>\n",
       "      <th>2</th>\n",
       "      <td>Adelie</td>\n",
       "      <td>Torgersen</td>\n",
       "      <td>40.3</td>\n",
       "      <td>18.0</td>\n",
       "      <td>195.0</td>\n",
       "      <td>3250.0</td>\n",
       "      <td>FEMALE</td>\n",
       "    </tr>\n",
       "    <tr>\n",
       "      <th>3</th>\n",
       "      <td>Adelie</td>\n",
       "      <td>Torgersen</td>\n",
       "      <td>NaN</td>\n",
       "      <td>NaN</td>\n",
       "      <td>NaN</td>\n",
       "      <td>NaN</td>\n",
       "      <td>NaN</td>\n",
       "    </tr>\n",
       "    <tr>\n",
       "      <th>4</th>\n",
       "      <td>Adelie</td>\n",
       "      <td>Torgersen</td>\n",
       "      <td>36.7</td>\n",
       "      <td>19.3</td>\n",
       "      <td>193.0</td>\n",
       "      <td>3450.0</td>\n",
       "      <td>FEMALE</td>\n",
       "    </tr>\n",
       "  </tbody>\n",
       "</table>\n",
       "</div>\n",
       "      <button class=\"colab-df-convert\" onclick=\"convertToInteractive('df-db287f25-61c7-49d1-9ef4-9494865a5ce5')\"\n",
       "              title=\"Convert this dataframe to an interactive table.\"\n",
       "              style=\"display:none;\">\n",
       "        \n",
       "  <svg xmlns=\"http://www.w3.org/2000/svg\" height=\"24px\"viewBox=\"0 0 24 24\"\n",
       "       width=\"24px\">\n",
       "    <path d=\"M0 0h24v24H0V0z\" fill=\"none\"/>\n",
       "    <path d=\"M18.56 5.44l.94 2.06.94-2.06 2.06-.94-2.06-.94-.94-2.06-.94 2.06-2.06.94zm-11 1L8.5 8.5l.94-2.06 2.06-.94-2.06-.94L8.5 2.5l-.94 2.06-2.06.94zm10 10l.94 2.06.94-2.06 2.06-.94-2.06-.94-.94-2.06-.94 2.06-2.06.94z\"/><path d=\"M17.41 7.96l-1.37-1.37c-.4-.4-.92-.59-1.43-.59-.52 0-1.04.2-1.43.59L10.3 9.45l-7.72 7.72c-.78.78-.78 2.05 0 2.83L4 21.41c.39.39.9.59 1.41.59.51 0 1.02-.2 1.41-.59l7.78-7.78 2.81-2.81c.8-.78.8-2.07 0-2.86zM5.41 20L4 18.59l7.72-7.72 1.47 1.35L5.41 20z\"/>\n",
       "  </svg>\n",
       "      </button>\n",
       "      \n",
       "  <style>\n",
       "    .colab-df-container {\n",
       "      display:flex;\n",
       "      flex-wrap:wrap;\n",
       "      gap: 12px;\n",
       "    }\n",
       "\n",
       "    .colab-df-convert {\n",
       "      background-color: #E8F0FE;\n",
       "      border: none;\n",
       "      border-radius: 50%;\n",
       "      cursor: pointer;\n",
       "      display: none;\n",
       "      fill: #1967D2;\n",
       "      height: 32px;\n",
       "      padding: 0 0 0 0;\n",
       "      width: 32px;\n",
       "    }\n",
       "\n",
       "    .colab-df-convert:hover {\n",
       "      background-color: #E2EBFA;\n",
       "      box-shadow: 0px 1px 2px rgba(60, 64, 67, 0.3), 0px 1px 3px 1px rgba(60, 64, 67, 0.15);\n",
       "      fill: #174EA6;\n",
       "    }\n",
       "\n",
       "    [theme=dark] .colab-df-convert {\n",
       "      background-color: #3B4455;\n",
       "      fill: #D2E3FC;\n",
       "    }\n",
       "\n",
       "    [theme=dark] .colab-df-convert:hover {\n",
       "      background-color: #434B5C;\n",
       "      box-shadow: 0px 1px 3px 1px rgba(0, 0, 0, 0.15);\n",
       "      filter: drop-shadow(0px 1px 2px rgba(0, 0, 0, 0.3));\n",
       "      fill: #FFFFFF;\n",
       "    }\n",
       "  </style>\n",
       "\n",
       "      <script>\n",
       "        const buttonEl =\n",
       "          document.querySelector('#df-db287f25-61c7-49d1-9ef4-9494865a5ce5 button.colab-df-convert');\n",
       "        buttonEl.style.display =\n",
       "          google.colab.kernel.accessAllowed ? 'block' : 'none';\n",
       "\n",
       "        async function convertToInteractive(key) {\n",
       "          const element = document.querySelector('#df-db287f25-61c7-49d1-9ef4-9494865a5ce5');\n",
       "          const dataTable =\n",
       "            await google.colab.kernel.invokeFunction('convertToInteractive',\n",
       "                                                     [key], {});\n",
       "          if (!dataTable) return;\n",
       "\n",
       "          const docLinkHtml = 'Like what you see? Visit the ' +\n",
       "            '<a target=\"_blank\" href=https://colab.research.google.com/notebooks/data_table.ipynb>data table notebook</a>'\n",
       "            + ' to learn more about interactive tables.';\n",
       "          element.innerHTML = '';\n",
       "          dataTable['output_type'] = 'display_data';\n",
       "          await google.colab.output.renderOutput(dataTable, element);\n",
       "          const docLink = document.createElement('div');\n",
       "          docLink.innerHTML = docLinkHtml;\n",
       "          element.appendChild(docLink);\n",
       "        }\n",
       "      </script>\n",
       "    </div>\n",
       "  </div>\n",
       "  "
      ],
      "text/plain": [
       "  species     island  culmen_length_mm  culmen_depth_mm  flipper_length_mm  \\\n",
       "0  Adelie  Torgersen              39.1             18.7              181.0   \n",
       "1  Adelie  Torgersen              39.5             17.4              186.0   \n",
       "2  Adelie  Torgersen              40.3             18.0              195.0   \n",
       "3  Adelie  Torgersen               NaN              NaN                NaN   \n",
       "4  Adelie  Torgersen              36.7             19.3              193.0   \n",
       "\n",
       "   body_mass_g     sex  \n",
       "0       3750.0    MALE  \n",
       "1       3800.0  FEMALE  \n",
       "2       3250.0  FEMALE  \n",
       "3          NaN     NaN  \n",
       "4       3450.0  FEMALE  "
      ]
     },
     "execution_count": 11,
     "metadata": {},
     "output_type": "execute_result"
    }
   ],
   "source": [
    "df_size = pd.read_csv('sample_data/penguins_size.csv')\n",
    "df_size.head()"
   ]
  },
  {
   "cell_type": "markdown",
   "id": "47b81398",
   "metadata": {
    "id": "47b81398"
   },
   "source": [
    "Para plotagem dos gráficos existem duas formas básicas:\n",
    "1. Passar nos eixos X e Y tanto as colunas quanto o dataframe no formato df['coluna'] \n",
    "2. Passar apenas a string com nome das colunas para os parâmetros X e Y e o dataframe no parâmetro data"
   ]
  },
  {
   "cell_type": "code",
   "execution_count": null,
   "id": "66f76424",
   "metadata": {
    "colab": {
     "base_uri": "https://localhost:8080/",
     "height": 265
    },
    "executionInfo": {
     "elapsed": 734,
     "status": "ok",
     "timestamp": 1663972829324,
     "user": {
      "displayName": "Pablo Bizzi",
      "userId": "14371154040405520361"
     },
     "user_tz": 180
    },
    "id": "66f76424",
    "outputId": "7207bc44-7556-460e-b182-b2a29fc8416d"
   },
   "outputs": [
    {
     "data": {
      "image/png": "[encoded data removed]",
      "text/plain": [
       "<Figure size 432x288 with 1 Axes>"
      ]
     },
     "metadata": {
      "needs_background": "light"
     },
     "output_type": "display_data"
    }
   ],
   "source": [
    "plt.scatter(x=df_size['body_mass_g'], y=df_size['culmen_depth_mm']);"
   ]
  },
  {
   "cell_type": "code",
   "execution_count": null,
   "id": "cde86169",
   "metadata": {
    "colab": {
     "base_uri": "https://localhost:8080/",
     "height": 265
    },
    "executionInfo": {
     "elapsed": 9,
     "status": "ok",
     "timestamp": 1663938083384,
     "user": {
      "displayName": "Pablo Bizzi",
      "userId": "14371154040405520361"
     },
     "user_tz": 180
    },
    "id": "cde86169",
    "outputId": "d7c6370a-16d7-484e-8c09-03cf0764c40c"
   },
   "outputs": [
    {
     "data": {
      "image/png": "[encoded data removed]",
      "text/plain": [
       "<Figure size 432x288 with 1 Axes>"
      ]
     },
     "metadata": {
      "needs_background": "light"
     },
     "output_type": "display_data"
    }
   ],
   "source": [
    "plt.scatter(x='body_mass_g', y='culmen_depth_mm', data=df_size);"
   ]
  },
  {
   "cell_type": "markdown",
   "id": "9dcf5bd4",
   "metadata": {
    "id": "9dcf5bd4"
   },
   "source": [
    "É possíve verificar a diferença entre as plotagens através do Pandas e Matplotlib por meio do código abaixo."
   ]
  },
  {
   "cell_type": "code",
   "execution_count": null,
   "id": "d11b8cf0",
   "metadata": {
    "colab": {
     "base_uri": "https://localhost:8080/",
     "height": 528
    },
    "executionInfo": {
     "elapsed": 684,
     "status": "ok",
     "timestamp": 1663972906299,
     "user": {
      "displayName": "Pablo Bizzi",
      "userId": "14371154040405520361"
     },
     "user_tz": 180
    },
    "id": "d11b8cf0",
    "outputId": "6a61c79e-5522-4fc8-c3f5-fac2e9eb4aa9",
    "scrolled": false
   },
   "outputs": [
    {
     "data": {
      "image/png": "[encoded data removed]",
      "text/plain": [
       "<Figure size 432x288 with 1 Axes>"
      ]
     },
     "metadata": {
      "needs_background": "light"
     },
     "output_type": "display_data"
    },
    {
     "data": {
      "image/png": "[encoded data removed]",
      "text/plain": [
       "<Figure size 432x288 with 1 Axes>"
      ]
     },
     "metadata": {
      "needs_background": "light"
     },
     "output_type": "display_data"
    }
   ],
   "source": [
    "#Matplotlib\n",
    "plt.scatter(x=df_size['body_mass_g'], y=df_size['culmen_depth_mm'])\n",
    "#Pandas\n",
    "df_size.plot(x='body_mass_g', y='culmen_depth_mm', kind='scatter');"
   ]
  },
  {
   "cell_type": "markdown",
   "id": "09032f97",
   "metadata": {
    "id": "09032f97"
   },
   "source": [
    "Nota-se que visualmente não há muita diferença, porém a sintaxe que gera os gráficos possui certas diferenças."
   ]
  },
  {
   "cell_type": "markdown",
   "id": "521148c5",
   "metadata": {
    "id": "521148c5"
   },
   "source": [
    "Podemos alterar as cores dos marcadores através de alguma variável do próprio dataframe como por exemplo o sexo dos pinguins.  \n",
    "  \n",
    "Por padrão o parâmetro *c* do scatter necessita de uma lista apenas com cores ou números. Como no nosso dataframe as categorias são MALE, FEMALE e NaN, apenas alteramos estes valores para 0, 1 e 2. "
   ]
  },
  {
   "cell_type": "code",
   "execution_count": null,
   "id": "25c69884",
   "metadata": {
    "colab": {
     "base_uri": "https://localhost:8080/"
    },
    "executionInfo": {
     "elapsed": 433,
     "status": "ok",
     "timestamp": 1663972968045,
     "user": {
      "displayName": "Pablo Bizzi",
      "userId": "14371154040405520361"
     },
     "user_tz": 180
    },
    "id": "25c69884",
    "outputId": "4c36675e-ee32-4fa4-80b9-1dc18e3a12a2"
   },
   "outputs": [
    {
     "data": {
      "text/plain": [
       "MALE      168\n",
       "FEMALE    165\n",
       ".           1\n",
       "Name: sex, dtype: int64"
      ]
     },
     "execution_count": 15,
     "metadata": {},
     "output_type": "execute_result"
    }
   ],
   "source": [
    "df_size['sex'].value_counts()"
   ]
  },
  {
   "cell_type": "code",
   "execution_count": null,
   "id": "9df538af",
   "metadata": {
    "colab": {
     "base_uri": "https://localhost:8080/"
    },
    "executionInfo": {
     "elapsed": 401,
     "status": "ok",
     "timestamp": 1663972990069,
     "user": {
      "displayName": "Pablo Bizzi",
      "userId": "14371154040405520361"
     },
     "user_tz": 180
    },
    "id": "9df538af",
    "outputId": "e6d80226-44ea-4ae2-8ff5-2d4b09c33372"
   },
   "outputs": [
    {
     "data": {
      "text/plain": [
       "10"
      ]
     },
     "execution_count": 16,
     "metadata": {},
     "output_type": "execute_result"
    }
   ],
   "source": [
    "df_size['sex'].isnull().sum()"
   ]
  },
  {
   "cell_type": "markdown",
   "id": "4200305a",
   "metadata": {
    "id": "4200305a"
   },
   "source": [
    "Para simplificar iremos excluir os valores NaN"
   ]
  },
  {
   "cell_type": "code",
   "execution_count": null,
   "id": "b252e30f",
   "metadata": {
    "id": "b252e30f"
   },
   "outputs": [],
   "source": [
    "df_tratado_sex = df_size.dropna(subset=['sex'])"
   ]
  },
  {
   "cell_type": "code",
   "execution_count": null,
   "id": "5de0bf1b",
   "metadata": {
    "id": "5de0bf1b"
   },
   "outputs": [],
   "source": [
    "df_tratado = df_size.dropna()"
   ]
  },
  {
   "cell_type": "code",
   "execution_count": null,
   "id": "d03cd472",
   "metadata": {
    "colab": {
     "base_uri": "https://localhost:8080/"
    },
    "executionInfo": {
     "elapsed": 575,
     "status": "ok",
     "timestamp": 1663973034810,
     "user": {
      "displayName": "Pablo Bizzi",
      "userId": "14371154040405520361"
     },
     "user_tz": 180
    },
    "id": "d03cd472",
    "outputId": "07ac864e-ab2e-42e2-8606-14a6c8d6e19c"
   },
   "outputs": [
    {
     "data": {
      "text/plain": [
       "(334, 7)"
      ]
     },
     "execution_count": 19,
     "metadata": {},
     "output_type": "execute_result"
    }
   ],
   "source": [
    "df_tratado_sex.shape"
   ]
  },
  {
   "cell_type": "code",
   "execution_count": null,
   "id": "1adab153",
   "metadata": {
    "colab": {
     "base_uri": "https://localhost:8080/"
    },
    "executionInfo": {
     "elapsed": 432,
     "status": "ok",
     "timestamp": 1663973041345,
     "user": {
      "displayName": "Pablo Bizzi",
      "userId": "14371154040405520361"
     },
     "user_tz": 180
    },
    "id": "1adab153",
    "outputId": "427fdbe0-eca6-46e6-cb28-21916229f152"
   },
   "outputs": [
    {
     "data": {
      "text/plain": [
       "(334, 7)"
      ]
     },
     "execution_count": 20,
     "metadata": {},
     "output_type": "execute_result"
    }
   ],
   "source": [
    "df_tratado.shape"
   ]
  },
  {
   "cell_type": "code",
   "execution_count": null,
   "id": "3420633d",
   "metadata": {
    "colab": {
     "base_uri": "https://localhost:8080/"
    },
    "executionInfo": {
     "elapsed": 412,
     "status": "ok",
     "timestamp": 1663973049930,
     "user": {
      "displayName": "Pablo Bizzi",
      "userId": "14371154040405520361"
     },
     "user_tz": 180
    },
    "id": "3420633d",
    "outputId": "a8df57d8-a097-457b-cca5-a40a78712145"
   },
   "outputs": [
    {
     "data": {
      "text/plain": [
       "0"
      ]
     },
     "execution_count": 21,
     "metadata": {},
     "output_type": "execute_result"
    }
   ],
   "source": [
    "df_tratado['sex'].isnull().sum()"
   ]
  },
  {
   "cell_type": "code",
   "execution_count": null,
   "id": "6f02775a",
   "metadata": {
    "colab": {
     "base_uri": "https://localhost:8080/",
     "height": 265
    },
    "executionInfo": {
     "elapsed": 445,
     "status": "ok",
     "timestamp": 1663973060960,
     "user": {
      "displayName": "Pablo Bizzi",
      "userId": "14371154040405520361"
     },
     "user_tz": 180
    },
    "id": "6f02775a",
    "outputId": "f754728c-2d52-4519-a597-135084400a60",
    "scrolled": false
   },
   "outputs": [
    {
     "data": {
      "image/png": "[encoded data removed]",
      "text/plain": [
       "<Figure size 432x288 with 1 Axes>"
      ]
     },
     "metadata": {
      "needs_background": "light"
     },
     "output_type": "display_data"
    }
   ],
   "source": [
    "plt.scatter(x=df_tratado['body_mass_g'], y=df_tratado['culmen_depth_mm']);"
   ]
  },
  {
   "cell_type": "code",
   "execution_count": null,
   "id": "cc714dc2",
   "metadata": {
    "colab": {
     "base_uri": "https://localhost:8080/",
     "height": 406
    },
    "executionInfo": {
     "elapsed": 542,
     "status": "ok",
     "timestamp": 1663973137412,
     "user": {
      "displayName": "Pablo Bizzi",
      "userId": "14371154040405520361"
     },
     "user_tz": 180
    },
    "id": "cc714dc2",
    "outputId": "f7388618-7f0b-4e9e-d038-65d1c9302c4f"
   },
   "outputs": [
    {
     "data": {
      "image/png": "[encoded data removed]",
      "text/plain": [
       "<Figure size 864x432 with 1 Axes>"
      ]
     },
     "metadata": {
      "needs_background": "light"
     },
     "output_type": "display_data"
    }
   ],
   "source": [
    "plt.figure(figsize=(12,6))\n",
    "\n",
    "ax = plt.scatter(x=df_tratado['body_mass_g'], y=df_tratado['culmen_depth_mm'])\n",
    "\n",
    "plt.xlabel('Massa corporal')\n",
    "plt.ylabel('Altura do bico')\n",
    "plt.title('Relação entre massa corporal e altura do bico dos pinguins', fontsize=15);"
   ]
  },
  {
   "cell_type": "markdown",
   "id": "c83dba76",
   "metadata": {
    "id": "c83dba76"
   },
   "source": [
    "## Linhas\n",
    "**Documentação**: https://matplotlib.org/stable/api/_as_gen/matplotlib.pyplot.plot.html"
   ]
  },
  {
   "cell_type": "code",
   "execution_count": null,
   "id": "1bab6d0a",
   "metadata": {
    "colab": {
     "base_uri": "https://localhost:8080/",
     "height": 206
    },
    "executionInfo": {
     "elapsed": 403,
     "status": "ok",
     "timestamp": 1663974576837,
     "user": {
      "displayName": "Pablo Bizzi",
      "userId": "14371154040405520361"
     },
     "user_tz": 180
    },
    "id": "1bab6d0a",
    "outputId": "88f3c7b6-6567-42e5-d6b9-f41bcd16b797"
   },
   "outputs": [
    {
     "data": {
      "text/html": [
       "\n",
       "  <div id=\"df-2d71ea10-e647-49e8-9fb8-51bb5dd025f4\">\n",
       "    <div class=\"colab-df-container\">\n",
       "      <div>\n",
       "<style scoped>\n",
       "    .dataframe tbody tr th:only-of-type {\n",
       "        vertical-align: middle;\n",
       "    }\n",
       "\n",
       "    .dataframe tbody tr th {\n",
       "        vertical-align: top;\n",
       "    }\n",
       "\n",
       "    .dataframe thead th {\n",
       "        text-align: right;\n",
       "    }\n",
       "</style>\n",
       "<table border=\"1\" class=\"dataframe\">\n",
       "  <thead>\n",
       "    <tr style=\"text-align: right;\">\n",
       "      <th></th>\n",
       "      <th>Mês</th>\n",
       "      <th>Quantidade</th>\n",
       "      <th>Veículo</th>\n",
       "    </tr>\n",
       "  </thead>\n",
       "  <tbody>\n",
       "    <tr>\n",
       "      <th>0</th>\n",
       "      <td>Jan</td>\n",
       "      <td>68</td>\n",
       "      <td>HB20</td>\n",
       "    </tr>\n",
       "    <tr>\n",
       "      <th>1</th>\n",
       "      <td>Fev</td>\n",
       "      <td>48</td>\n",
       "      <td>HB20</td>\n",
       "    </tr>\n",
       "    <tr>\n",
       "      <th>2</th>\n",
       "      <td>Mar</td>\n",
       "      <td>7</td>\n",
       "      <td>HB20</td>\n",
       "    </tr>\n",
       "    <tr>\n",
       "      <th>3</th>\n",
       "      <td>Abr</td>\n",
       "      <td>29</td>\n",
       "      <td>HB20</td>\n",
       "    </tr>\n",
       "    <tr>\n",
       "      <th>4</th>\n",
       "      <td>Jan</td>\n",
       "      <td>61</td>\n",
       "      <td>Onix</td>\n",
       "    </tr>\n",
       "  </tbody>\n",
       "</table>\n",
       "</div>\n",
       "      <button class=\"colab-df-convert\" onclick=\"convertToInteractive('df-2d71ea10-e647-49e8-9fb8-51bb5dd025f4')\"\n",
       "              title=\"Convert this dataframe to an interactive table.\"\n",
       "              style=\"display:none;\">\n",
       "        \n",
       "  <svg xmlns=\"http://www.w3.org/2000/svg\" height=\"24px\"viewBox=\"0 0 24 24\"\n",
       "       width=\"24px\">\n",
       "    <path d=\"M0 0h24v24H0V0z\" fill=\"none\"/>\n",
       "    <path d=\"M18.56 5.44l.94 2.06.94-2.06 2.06-.94-2.06-.94-.94-2.06-.94 2.06-2.06.94zm-11 1L8.5 8.5l.94-2.06 2.06-.94-2.06-.94L8.5 2.5l-.94 2.06-2.06.94zm10 10l.94 2.06.94-2.06 2.06-.94-2.06-.94-.94-2.06-.94 2.06-2.06.94z\"/><path d=\"M17.41 7.96l-1.37-1.37c-.4-.4-.92-.59-1.43-.59-.52 0-1.04.2-1.43.59L10.3 9.45l-7.72 7.72c-.78.78-.78 2.05 0 2.83L4 21.41c.39.39.9.59 1.41.59.51 0 1.02-.2 1.41-.59l7.78-7.78 2.81-2.81c.8-.78.8-2.07 0-2.86zM5.41 20L4 18.59l7.72-7.72 1.47 1.35L5.41 20z\"/>\n",
       "  </svg>\n",
       "      </button>\n",
       "      \n",
       "  <style>\n",
       "    .colab-df-container {\n",
       "      display:flex;\n",
       "      flex-wrap:wrap;\n",
       "      gap: 12px;\n",
       "    }\n",
       "\n",
       "    .colab-df-convert {\n",
       "      background-color: #E8F0FE;\n",
       "      border: none;\n",
       "      border-radius: 50%;\n",
       "      cursor: pointer;\n",
       "      display: none;\n",
       "      fill: #1967D2;\n",
       "      height: 32px;\n",
       "      padding: 0 0 0 0;\n",
       "      width: 32px;\n",
       "    }\n",
       "\n",
       "    .colab-df-convert:hover {\n",
       "      background-color: #E2EBFA;\n",
       "      box-shadow: 0px 1px 2px rgba(60, 64, 67, 0.3), 0px 1px 3px 1px rgba(60, 64, 67, 0.15);\n",
       "      fill: #174EA6;\n",
       "    }\n",
       "\n",
       "    [theme=dark] .colab-df-convert {\n",
       "      background-color: #3B4455;\n",
       "      fill: #D2E3FC;\n",
       "    }\n",
       "\n",
       "    [theme=dark] .colab-df-convert:hover {\n",
       "      background-color: #434B5C;\n",
       "      box-shadow: 0px 1px 3px 1px rgba(0, 0, 0, 0.15);\n",
       "      filter: drop-shadow(0px 1px 2px rgba(0, 0, 0, 0.3));\n",
       "      fill: #FFFFFF;\n",
       "    }\n",
       "  </style>\n",
       "\n",
       "      <script>\n",
       "        const buttonEl =\n",
       "          document.querySelector('#df-2d71ea10-e647-49e8-9fb8-51bb5dd025f4 button.colab-df-convert');\n",
       "        buttonEl.style.display =\n",
       "          google.colab.kernel.accessAllowed ? 'block' : 'none';\n",
       "\n",
       "        async function convertToInteractive(key) {\n",
       "          const element = document.querySelector('#df-2d71ea10-e647-49e8-9fb8-51bb5dd025f4');\n",
       "          const dataTable =\n",
       "            await google.colab.kernel.invokeFunction('convertToInteractive',\n",
       "                                                     [key], {});\n",
       "          if (!dataTable) return;\n",
       "\n",
       "          const docLinkHtml = 'Like what you see? Visit the ' +\n",
       "            '<a target=\"_blank\" href=https://colab.research.google.com/notebooks/data_table.ipynb>data table notebook</a>'\n",
       "            + ' to learn more about interactive tables.';\n",
       "          element.innerHTML = '';\n",
       "          dataTable['output_type'] = 'display_data';\n",
       "          await google.colab.output.renderOutput(dataTable, element);\n",
       "          const docLink = document.createElement('div');\n",
       "          docLink.innerHTML = docLinkHtml;\n",
       "          element.appendChild(docLink);\n",
       "        }\n",
       "      </script>\n",
       "    </div>\n",
       "  </div>\n",
       "  "
      ],
      "text/plain": [
       "   Mês  Quantidade Veículo\n",
       "0  Jan          68    HB20\n",
       "1  Fev          48    HB20\n",
       "2  Mar           7    HB20\n",
       "3  Abr          29    HB20\n",
       "4  Jan          61    Onix"
      ]
     },
     "execution_count": 65,
     "metadata": {},
     "output_type": "execute_result"
    }
   ],
   "source": [
    "df_vendas = pd.DataFrame({'Mês' : ['Jan', 'Fev', 'Mar', 'Abr', 'Jan', 'Fev', 'Mar', 'Abr', 'Jan', 'Fev', 'Mar', 'Abr'],\n",
    "                         'Quantidade' : np.random.randint(low=100, size=12),\n",
    "                          'Veículo' : np.repeat(['HB20', 'Onix', 'Sandero'],4)})\n",
    "df_vendas.head()"
   ]
  },
  {
   "cell_type": "code",
   "execution_count": null,
   "id": "a4b547f5",
   "metadata": {
    "colab": {
     "base_uri": "https://localhost:8080/",
     "height": 269
    },
    "executionInfo": {
     "elapsed": 829,
     "status": "ok",
     "timestamp": 1663973286459,
     "user": {
      "displayName": "Pablo Bizzi",
      "userId": "14371154040405520361"
     },
     "user_tz": 180
    },
    "id": "a4b547f5",
    "outputId": "db3429a1-0901-4555-9c6a-fb2912100a97",
    "scrolled": true
   },
   "outputs": [
    {
     "data": {
      "image/png": "[encoded data removed]",
      "text/plain": [
       "<Figure size 432x288 with 1 Axes>"
      ]
     },
     "metadata": {
      "needs_background": "light"
     },
     "output_type": "display_data"
    }
   ],
   "source": [
    "filtro1 = df_vendas['Veículo']=='HB20'\n",
    "filtro2 = df_vendas['Veículo']=='HB20'\n",
    "\n",
    "plt.plot(df_vendas[filtro1]['Mês'], df_vendas[filtro2]['Quantidade']);"
   ]
  },
  {
   "cell_type": "code",
   "execution_count": null,
   "id": "b082d293",
   "metadata": {
    "colab": {
     "base_uri": "https://localhost:8080/",
     "height": 269
    },
    "executionInfo": {
     "elapsed": 619,
     "status": "ok",
     "timestamp": 1663973316307,
     "user": {
      "displayName": "Pablo Bizzi",
      "userId": "14371154040405520361"
     },
     "user_tz": 180
    },
    "id": "b082d293",
    "outputId": "3fac2e1a-ac86-4317-ae54-3de02375220f"
   },
   "outputs": [
    {
     "data": {
      "image/png": "[encoded data removed]",
      "text/plain": [
       "<Figure size 432x288 with 1 Axes>"
      ]
     },
     "metadata": {
      "needs_background": "light"
     },
     "output_type": "display_data"
    }
   ],
   "source": [
    "plt.plot('Mês', 'Quantidade', data=df_vendas[filtro1]);"
   ]
  },
  {
   "cell_type": "markdown",
   "id": "311971a2",
   "metadata": {
    "id": "311971a2"
   },
   "source": [
    "### Estrutura  \n",
    "No matplotlib, temos dois conceitos importantes:  \n",
    "  \n",
    "* Área de plotagem (eixos ou Axes)\n",
    "    área onde os gráficos (linhas, barras, pontos, labels, ticks, etc) aparecem. Cada Axes possui um eixo-x e eixo-y.\n",
    "* Figure\n",
    "    é o container de nível superior que mantém toda a estrutura. É a janela onde tudo é desenhado e controlado. Dentro dele podemos ter vários gráficos independentes.\n",
    "  \n",
    "  \n",
    "Antes de gerarmos múltiplos gráficos, precisamos decidir:\n",
    "\n",
    "* podemos imprimir dois gráficos, ex: duas linhas, na mesma área de plotagem\n",
    "* ou em áreas de plotagens diferentes."
   ]
  },
  {
   "cell_type": "markdown",
   "id": "55f1e214",
   "metadata": {
    "id": "55f1e214"
   },
   "source": [
    "**No mesmo Eixo**"
   ]
  },
  {
   "cell_type": "code",
   "execution_count": null,
   "id": "9ad80af0",
   "metadata": {
    "colab": {
     "base_uri": "https://localhost:8080/",
     "height": 377
    },
    "executionInfo": {
     "elapsed": 764,
     "status": "ok",
     "timestamp": 1663973605966,
     "user": {
      "displayName": "Pablo Bizzi",
      "userId": "14371154040405520361"
     },
     "user_tz": 180
    },
    "id": "9ad80af0",
    "outputId": "a3a33245-a08a-4e70-9439-8d834a3391c8",
    "scrolled": true
   },
   "outputs": [
    {
     "data": {
      "image/png": "[encoded data removed]",
      "text/plain": [
       "<Figure size 864x432 with 1 Axes>"
      ]
     },
     "metadata": {
      "needs_background": "light"
     },
     "output_type": "display_data"
    }
   ],
   "source": [
    "plt.figure(figsize=(12,6))\n",
    "plt.plot('Mês', 'Quantidade', data=df_vendas[df_vendas['Veículo']=='HB20'], label='HB20')\n",
    "plt.plot('Mês', 'Quantidade', data=df_vendas[df_vendas['Veículo']=='Onix'], label='Onix')\n",
    "plt.plot('Mês', 'Quantidade', data=df_vendas[df_vendas['Veículo']=='Sandero'], label='Sandero')\n",
    "\n",
    "plt.legend(ncol=3);"
   ]
  },
  {
   "cell_type": "markdown",
   "id": "8cd637ff",
   "metadata": {
    "id": "8cd637ff"
   },
   "source": [
    "**Em vários eixos**  \n",
    "Para plotar os gráficos em vários eixos utilizaresmos o método *plt.subplots*, cuja função é gerar uma figura e um conjunto de eixos pré-posicionados num formato de grade.  \n",
    "  \n",
    "Para isso, ao chamarmos essa função, iremos passar dois argumentos:\n",
    "* nrows: indica quantas linhas. \n",
    "* ncols: indinca quantas colunas.\n",
    "  \n",
    "No exemplo abaixo teremos 4 gráficos sendo, portanto, 2 linhas e 2 colunas. Desta forma, retornará uma tupla de dois elementos:  \n",
    "  \n",
    "* um objeto do tipo Figure que representa a figura  \n",
    "* lista ou matriz de eixos  \n",
    "  \n",
    "Podemos acessar cada eixo usando a notação de colchetes, e invocar a função de plot normalmente."
   ]
  },
  {
   "cell_type": "code",
   "execution_count": null,
   "id": "bb2c7c3c",
   "metadata": {
    "colab": {
     "base_uri": "https://localhost:8080/",
     "height": 324
    },
    "executionInfo": {
     "elapsed": 7,
     "status": "ok",
     "timestamp": 1663973723942,
     "user": {
      "displayName": "Pablo Bizzi",
      "userId": "14371154040405520361"
     },
     "user_tz": 180
    },
    "id": "bb2c7c3c",
    "outputId": "4b5afeac-d891-4ace-a019-265f9da70782"
   },
   "outputs": [
    {
     "data": {
      "image/png": "[encoded data removed]",
      "text/plain": [
       "<Figure size 864x360 with 4 Axes>"
      ]
     },
     "metadata": {
      "needs_background": "light"
     },
     "output_type": "display_data"
    }
   ],
   "source": [
    "fig, axs = plt.subplots(2, 2, figsize=(12,5))\n",
    "\n",
    "axs[0,0].text(0.4, 0.4, 'Gráfico[0,0]')\n",
    "axs[0,1].text(0.4, 0.4, 'Gráfico[0,1]')\n",
    "axs[1,0].text(0.4, 0.4, 'Gráfico[1,0]')\n",
    "axs[1,1].text(0.4, 0.4, 'Gráfico[1,1]');"
   ]
  },
  {
   "cell_type": "markdown",
   "id": "106a5062",
   "metadata": {
    "id": "106a5062"
   },
   "source": [
    "No exemplo de vendas temos 3 gráficos, por isso é possível fazer os subplots com 3 linhas e 1 coluna ou 1 linha e 3 colunas. Aqui, seguiremos com o segundo casO (1 linha e 3 colunas).  \n",
    "\n",
    "Repare que ao passar nrows=1, espertamente, o matplotlib não devolve uma matriz e sim uma lista.  "
   ]
  },
  {
   "cell_type": "code",
   "execution_count": null,
   "id": "2732f1fd",
   "metadata": {
    "colab": {
     "base_uri": "https://localhost:8080/",
     "height": 328
    },
    "executionInfo": {
     "elapsed": 1100,
     "status": "ok",
     "timestamp": 1663973899436,
     "user": {
      "displayName": "Pablo Bizzi",
      "userId": "14371154040405520361"
     },
     "user_tz": 180
    },
    "id": "2732f1fd",
    "outputId": "5bcd5d64-8212-4156-cf5a-63c67259fcba",
    "scrolled": true
   },
   "outputs": [
    {
     "data": {
      "image/png": "[encoded data removed]",
      "text/plain": [
       "<Figure size 864x288 with 3 Axes>"
      ]
     },
     "metadata": {
      "needs_background": "light"
     },
     "output_type": "display_data"
    }
   ],
   "source": [
    "fig, axs = plt.subplots(1, 3, figsize=(12,4), sharey=True)\n",
    "\n",
    "fig.suptitle('Vendas de carros', fontsize=15, y=1.05)\n",
    "axs[0].plot('Mês', 'Quantidade', data=df_vendas[df_vendas['Veículo']=='HB20'], c='red', label = 'HB20')\n",
    "axs[1].plot('Mês', 'Quantidade', data=df_vendas[df_vendas['Veículo']=='Onix'], c='blue', label = 'Onix')\n",
    "axs[2].plot('Mês', 'Quantidade', data=df_vendas[df_vendas['Veículo']=='Sandero'], c='green', label = 'Sandero')\n",
    "\n",
    "\n",
    "axs[0].set(ylabel='Quantidade', title='HB20')\n",
    "axs[1].set(xlabel='Mês', title='Onix')\n",
    "axs[2].set(title='Sandero');"
   ]
  },
  {
   "cell_type": "markdown",
   "id": "7c021bdc",
   "metadata": {
    "id": "7c021bdc"
   },
   "source": [
    "Para diferenciarmos os gráficos podemos utilizar os parâmetros linewidth, linestyle e color. Estes parâmetros podem ser utilizados por meio de abreviações de linewidth = lw, linestyle = ls e color = c."
   ]
  },
  {
   "cell_type": "code",
   "execution_count": null,
   "id": "9b807de7",
   "metadata": {
    "colab": {
     "base_uri": "https://localhost:8080/",
     "height": 404
    },
    "executionInfo": {
     "elapsed": 754,
     "status": "ok",
     "timestamp": 1663974178700,
     "user": {
      "displayName": "Pablo Bizzi",
      "userId": "14371154040405520361"
     },
     "user_tz": 180
    },
    "id": "9b807de7",
    "outputId": "a6ffe49b-a71f-4405-cd3b-adcd3b37db42",
    "scrolled": false
   },
   "outputs": [
    {
     "data": {
      "image/png": "[encoded data removed]",
      "text/plain": [
       "<Figure size 864x432 with 1 Axes>"
      ]
     },
     "metadata": {
      "needs_background": "light"
     },
     "output_type": "display_data"
    }
   ],
   "source": [
    "fig, ax = plt.subplots(figsize=(12,6))\n",
    "\n",
    "ax.plot('Mês', 'Quantidade', data=df_vendas[df_vendas['Veículo']=='HB20'], c='red', ls='-', label='HB20')\n",
    "ax.plot('Mês', 'Quantidade', data=df_vendas[df_vendas['Veículo']=='Onix'], c='blue', ls=':', label='Onix')\n",
    "ax.plot('Mês', 'Quantidade', data=df_vendas[df_vendas['Veículo']=='Sandero'], c='green', ls='-.', label='Sandero', lw=4);\n",
    "\n",
    "ax.set_xlabel('Mês')\n",
    "ax.set_ylabel('Quantidade')\n",
    "ax.set_title('Quantidade de veículos vendidos por mês')\n",
    "\n",
    "ax.legend(loc='upper left');"
   ]
  },
  {
   "cell_type": "markdown",
   "id": "b45f7ddc",
   "metadata": {
    "id": "b45f7ddc"
   },
   "source": [
    "Para utilizar cores hexadecimal é possível consultar alguns códigos no link https://celke.com.br/artigo/tabela-de-cores-html-nome-hexadecimal-rgb"
   ]
  },
  {
   "cell_type": "markdown",
   "id": "90e31b3c",
   "metadata": {
    "id": "90e31b3c"
   },
   "source": [
    "## Pizza\n",
    "**Documentação**: https://matplotlib.org/stable/api/_as_gen/matplotlib.pyplot.pie.html"
   ]
  },
  {
   "cell_type": "code",
   "execution_count": null,
   "id": "3b7ec8dc",
   "metadata": {
    "colab": {
     "base_uri": "https://localhost:8080/",
     "height": 175
    },
    "executionInfo": {
     "elapsed": 424,
     "status": "ok",
     "timestamp": 1663974529869,
     "user": {
      "displayName": "Pablo Bizzi",
      "userId": "14371154040405520361"
     },
     "user_tz": 180
    },
    "id": "3b7ec8dc",
    "outputId": "4a860f56-bcbc-4e6f-c220-6bbb676bbc61"
   },
   "outputs": [
    {
     "data": {
      "text/html": [
       "\n",
       "  <div id=\"df-87b55339-02c3-4f66-99aa-29afdc82885b\">\n",
       "    <div class=\"colab-df-container\">\n",
       "      <div>\n",
       "<style scoped>\n",
       "    .dataframe tbody tr th:only-of-type {\n",
       "        vertical-align: middle;\n",
       "    }\n",
       "\n",
       "    .dataframe tbody tr th {\n",
       "        vertical-align: top;\n",
       "    }\n",
       "\n",
       "    .dataframe thead th {\n",
       "        text-align: right;\n",
       "    }\n",
       "</style>\n",
       "<table border=\"1\" class=\"dataframe\">\n",
       "  <thead>\n",
       "    <tr style=\"text-align: right;\">\n",
       "      <th></th>\n",
       "      <th>Quantidade</th>\n",
       "    </tr>\n",
       "    <tr>\n",
       "      <th>Veículo</th>\n",
       "      <th></th>\n",
       "    </tr>\n",
       "  </thead>\n",
       "  <tbody>\n",
       "    <tr>\n",
       "      <th>HB20</th>\n",
       "      <td>252</td>\n",
       "    </tr>\n",
       "    <tr>\n",
       "      <th>Onix</th>\n",
       "      <td>238</td>\n",
       "    </tr>\n",
       "    <tr>\n",
       "      <th>Sandero</th>\n",
       "      <td>176</td>\n",
       "    </tr>\n",
       "  </tbody>\n",
       "</table>\n",
       "</div>\n",
       "      <button class=\"colab-df-convert\" onclick=\"convertToInteractive('df-87b55339-02c3-4f66-99aa-29afdc82885b')\"\n",
       "              title=\"Convert this dataframe to an interactive table.\"\n",
       "              style=\"display:none;\">\n",
       "        \n",
       "  <svg xmlns=\"http://www.w3.org/2000/svg\" height=\"24px\"viewBox=\"0 0 24 24\"\n",
       "       width=\"24px\">\n",
       "    <path d=\"M0 0h24v24H0V0z\" fill=\"none\"/>\n",
       "    <path d=\"M18.56 5.44l.94 2.06.94-2.06 2.06-.94-2.06-.94-.94-2.06-.94 2.06-2.06.94zm-11 1L8.5 8.5l.94-2.06 2.06-.94-2.06-.94L8.5 2.5l-.94 2.06-2.06.94zm10 10l.94 2.06.94-2.06 2.06-.94-2.06-.94-.94-2.06-.94 2.06-2.06.94z\"/><path d=\"M17.41 7.96l-1.37-1.37c-.4-.4-.92-.59-1.43-.59-.52 0-1.04.2-1.43.59L10.3 9.45l-7.72 7.72c-.78.78-.78 2.05 0 2.83L4 21.41c.39.39.9.59 1.41.59.51 0 1.02-.2 1.41-.59l7.78-7.78 2.81-2.81c.8-.78.8-2.07 0-2.86zM5.41 20L4 18.59l7.72-7.72 1.47 1.35L5.41 20z\"/>\n",
       "  </svg>\n",
       "      </button>\n",
       "      \n",
       "  <style>\n",
       "    .colab-df-container {\n",
       "      display:flex;\n",
       "      flex-wrap:wrap;\n",
       "      gap: 12px;\n",
       "    }\n",
       "\n",
       "    .colab-df-convert {\n",
       "      background-color: #E8F0FE;\n",
       "      border: none;\n",
       "      border-radius: 50%;\n",
       "      cursor: pointer;\n",
       "      display: none;\n",
       "      fill: #1967D2;\n",
       "      height: 32px;\n",
       "      padding: 0 0 0 0;\n",
       "      width: 32px;\n",
       "    }\n",
       "\n",
       "    .colab-df-convert:hover {\n",
       "      background-color: #E2EBFA;\n",
       "      box-shadow: 0px 1px 2px rgba(60, 64, 67, 0.3), 0px 1px 3px 1px rgba(60, 64, 67, 0.15);\n",
       "      fill: #174EA6;\n",
       "    }\n",
       "\n",
       "    [theme=dark] .colab-df-convert {\n",
       "      background-color: #3B4455;\n",
       "      fill: #D2E3FC;\n",
       "    }\n",
       "\n",
       "    [theme=dark] .colab-df-convert:hover {\n",
       "      background-color: #434B5C;\n",
       "      box-shadow: 0px 1px 3px 1px rgba(0, 0, 0, 0.15);\n",
       "      filter: drop-shadow(0px 1px 2px rgba(0, 0, 0, 0.3));\n",
       "      fill: #FFFFFF;\n",
       "    }\n",
       "  </style>\n",
       "\n",
       "      <script>\n",
       "        const buttonEl =\n",
       "          document.querySelector('#df-87b55339-02c3-4f66-99aa-29afdc82885b button.colab-df-convert');\n",
       "        buttonEl.style.display =\n",
       "          google.colab.kernel.accessAllowed ? 'block' : 'none';\n",
       "\n",
       "        async function convertToInteractive(key) {\n",
       "          const element = document.querySelector('#df-87b55339-02c3-4f66-99aa-29afdc82885b');\n",
       "          const dataTable =\n",
       "            await google.colab.kernel.invokeFunction('convertToInteractive',\n",
       "                                                     [key], {});\n",
       "          if (!dataTable) return;\n",
       "\n",
       "          const docLinkHtml = 'Like what you see? Visit the ' +\n",
       "            '<a target=\"_blank\" href=https://colab.research.google.com/notebooks/data_table.ipynb>data table notebook</a>'\n",
       "            + ' to learn more about interactive tables.';\n",
       "          element.innerHTML = '';\n",
       "          dataTable['output_type'] = 'display_data';\n",
       "          await google.colab.output.renderOutput(dataTable, element);\n",
       "          const docLink = document.createElement('div');\n",
       "          docLink.innerHTML = docLinkHtml;\n",
       "          element.appendChild(docLink);\n",
       "        }\n",
       "      </script>\n",
       "    </div>\n",
       "  </div>\n",
       "  "
      ],
      "text/plain": [
       "         Quantidade\n",
       "Veículo            \n",
       "HB20            252\n",
       "Onix            238\n",
       "Sandero         176"
      ]
     },
     "execution_count": 62,
     "metadata": {},
     "output_type": "execute_result"
    }
   ],
   "source": [
    "df_veiculo = df_vendas.pivot_table(index='Veículo', values='Quantidade', aggfunc='sum')\n",
    "df_veiculo.head()"
   ]
  },
  {
   "cell_type": "code",
   "execution_count": null,
   "id": "747f0268",
   "metadata": {
    "colab": {
     "base_uri": "https://localhost:8080/",
     "height": 248
    },
    "executionInfo": {
     "elapsed": 4,
     "status": "ok",
     "timestamp": 1663974506434,
     "user": {
      "displayName": "Pablo Bizzi",
      "userId": "14371154040405520361"
     },
     "user_tz": 180
    },
    "id": "747f0268",
    "outputId": "6713a956-78ac-4ffb-cf34-9fee1fb87ff6"
   },
   "outputs": [
    {
     "data": {
      "image/png": "[encoded data removed]",
      "text/plain": [
       "<Figure size 432x288 with 1 Axes>"
      ]
     },
     "metadata": {},
     "output_type": "display_data"
    }
   ],
   "source": [
    "plt.pie('Quantidade', data=df_veiculo);"
   ]
  },
  {
   "cell_type": "code",
   "execution_count": null,
   "id": "1780b43e",
   "metadata": {
    "colab": {
     "base_uri": "https://localhost:8080/",
     "height": 248
    },
    "executionInfo": {
     "elapsed": 4,
     "status": "ok",
     "timestamp": 1663974511875,
     "user": {
      "displayName": "Pablo Bizzi",
      "userId": "14371154040405520361"
     },
     "user_tz": 180
    },
    "id": "1780b43e",
    "outputId": "99ce04d7-5557-4674-f1e8-51aac7cfec67"
   },
   "outputs": [
    {
     "data": {
      "image/png": "[encoded data removed]",
      "text/plain": [
       "<Figure size 432x288 with 1 Axes>"
      ]
     },
     "metadata": {},
     "output_type": "display_data"
    }
   ],
   "source": [
    "plt.pie('Quantidade', data=df_veiculo, autopct='%1.0f%%')\n",
    "plt.legend(labels=['HB20', 'Onix', 'Sandero']);"
   ]
  },
  {
   "cell_type": "code",
   "execution_count": null,
   "id": "PhsOxE8NmLdi",
   "metadata": {
    "colab": {
     "base_uri": "https://localhost:8080/"
    },
    "executionInfo": {
     "elapsed": 385,
     "status": "ok",
     "timestamp": 1663974582660,
     "user": {
      "displayName": "Pablo Bizzi",
      "userId": "14371154040405520361"
     },
     "user_tz": 180
    },
    "id": "PhsOxE8NmLdi",
    "outputId": "982ca17d-57d1-4751-e666-6c2e2106bded"
   },
   "outputs": [
    {
     "data": {
      "text/plain": [
       "0     Jan\n",
       "1     Fev\n",
       "2     Mar\n",
       "3     Abr\n",
       "4     Jan\n",
       "5     Fev\n",
       "6     Mar\n",
       "7     Abr\n",
       "8     Jan\n",
       "9     Fev\n",
       "10    Mar\n",
       "11    Abr\n",
       "Name: Mês, dtype: object"
      ]
     },
     "execution_count": 66,
     "metadata": {},
     "output_type": "execute_result"
    }
   ],
   "source": [
    "df_vendas['Mês']"
   ]
  },
  {
   "cell_type": "code",
   "execution_count": null,
   "id": "c0O3lqXpmQPC",
   "metadata": {
    "colab": {
     "base_uri": "https://localhost:8080/",
     "height": 206
    },
    "executionInfo": {
     "elapsed": 407,
     "status": "ok",
     "timestamp": 1663974601958,
     "user": {
      "displayName": "Pablo Bizzi",
      "userId": "14371154040405520361"
     },
     "user_tz": 180
    },
    "id": "c0O3lqXpmQPC",
    "outputId": "fa6b1aff-b3a5-46be-db91-03031e610568"
   },
   "outputs": [
    {
     "data": {
      "text/html": [
       "\n",
       "  <div id=\"df-d65893fb-0079-4280-98f6-46f98e53a1d9\">\n",
       "    <div class=\"colab-df-container\">\n",
       "      <div>\n",
       "<style scoped>\n",
       "    .dataframe tbody tr th:only-of-type {\n",
       "        vertical-align: middle;\n",
       "    }\n",
       "\n",
       "    .dataframe tbody tr th {\n",
       "        vertical-align: top;\n",
       "    }\n",
       "\n",
       "    .dataframe thead th {\n",
       "        text-align: right;\n",
       "    }\n",
       "</style>\n",
       "<table border=\"1\" class=\"dataframe\">\n",
       "  <thead>\n",
       "    <tr style=\"text-align: right;\">\n",
       "      <th></th>\n",
       "      <th>Quantidade</th>\n",
       "    </tr>\n",
       "    <tr>\n",
       "      <th>Mês</th>\n",
       "      <th></th>\n",
       "    </tr>\n",
       "  </thead>\n",
       "  <tbody>\n",
       "    <tr>\n",
       "      <th>Abr</th>\n",
       "      <td>112</td>\n",
       "    </tr>\n",
       "    <tr>\n",
       "      <th>Fev</th>\n",
       "      <td>209</td>\n",
       "    </tr>\n",
       "    <tr>\n",
       "      <th>Jan</th>\n",
       "      <td>155</td>\n",
       "    </tr>\n",
       "    <tr>\n",
       "      <th>Mar</th>\n",
       "      <td>124</td>\n",
       "    </tr>\n",
       "  </tbody>\n",
       "</table>\n",
       "</div>\n",
       "      <button class=\"colab-df-convert\" onclick=\"convertToInteractive('df-d65893fb-0079-4280-98f6-46f98e53a1d9')\"\n",
       "              title=\"Convert this dataframe to an interactive table.\"\n",
       "              style=\"display:none;\">\n",
       "        \n",
       "  <svg xmlns=\"http://www.w3.org/2000/svg\" height=\"24px\"viewBox=\"0 0 24 24\"\n",
       "       width=\"24px\">\n",
       "    <path d=\"M0 0h24v24H0V0z\" fill=\"none\"/>\n",
       "    <path d=\"M18.56 5.44l.94 2.06.94-2.06 2.06-.94-2.06-.94-.94-2.06-.94 2.06-2.06.94zm-11 1L8.5 8.5l.94-2.06 2.06-.94-2.06-.94L8.5 2.5l-.94 2.06-2.06.94zm10 10l.94 2.06.94-2.06 2.06-.94-2.06-.94-.94-2.06-.94 2.06-2.06.94z\"/><path d=\"M17.41 7.96l-1.37-1.37c-.4-.4-.92-.59-1.43-.59-.52 0-1.04.2-1.43.59L10.3 9.45l-7.72 7.72c-.78.78-.78 2.05 0 2.83L4 21.41c.39.39.9.59 1.41.59.51 0 1.02-.2 1.41-.59l7.78-7.78 2.81-2.81c.8-.78.8-2.07 0-2.86zM5.41 20L4 18.59l7.72-7.72 1.47 1.35L5.41 20z\"/>\n",
       "  </svg>\n",
       "      </button>\n",
       "      \n",
       "  <style>\n",
       "    .colab-df-container {\n",
       "      display:flex;\n",
       "      flex-wrap:wrap;\n",
       "      gap: 12px;\n",
       "    }\n",
       "\n",
       "    .colab-df-convert {\n",
       "      background-color: #E8F0FE;\n",
       "      border: none;\n",
       "      border-radius: 50%;\n",
       "      cursor: pointer;\n",
       "      display: none;\n",
       "      fill: #1967D2;\n",
       "      height: 32px;\n",
       "      padding: 0 0 0 0;\n",
       "      width: 32px;\n",
       "    }\n",
       "\n",
       "    .colab-df-convert:hover {\n",
       "      background-color: #E2EBFA;\n",
       "      box-shadow: 0px 1px 2px rgba(60, 64, 67, 0.3), 0px 1px 3px 1px rgba(60, 64, 67, 0.15);\n",
       "      fill: #174EA6;\n",
       "    }\n",
       "\n",
       "    [theme=dark] .colab-df-convert {\n",
       "      background-color: #3B4455;\n",
       "      fill: #D2E3FC;\n",
       "    }\n",
       "\n",
       "    [theme=dark] .colab-df-convert:hover {\n",
       "      background-color: #434B5C;\n",
       "      box-shadow: 0px 1px 3px 1px rgba(0, 0, 0, 0.15);\n",
       "      filter: drop-shadow(0px 1px 2px rgba(0, 0, 0, 0.3));\n",
       "      fill: #FFFFFF;\n",
       "    }\n",
       "  </style>\n",
       "\n",
       "      <script>\n",
       "        const buttonEl =\n",
       "          document.querySelector('#df-d65893fb-0079-4280-98f6-46f98e53a1d9 button.colab-df-convert');\n",
       "        buttonEl.style.display =\n",
       "          google.colab.kernel.accessAllowed ? 'block' : 'none';\n",
       "\n",
       "        async function convertToInteractive(key) {\n",
       "          const element = document.querySelector('#df-d65893fb-0079-4280-98f6-46f98e53a1d9');\n",
       "          const dataTable =\n",
       "            await google.colab.kernel.invokeFunction('convertToInteractive',\n",
       "                                                     [key], {});\n",
       "          if (!dataTable) return;\n",
       "\n",
       "          const docLinkHtml = 'Like what you see? Visit the ' +\n",
       "            '<a target=\"_blank\" href=https://colab.research.google.com/notebooks/data_table.ipynb>data table notebook</a>'\n",
       "            + ' to learn more about interactive tables.';\n",
       "          element.innerHTML = '';\n",
       "          dataTable['output_type'] = 'display_data';\n",
       "          await google.colab.output.renderOutput(dataTable, element);\n",
       "          const docLink = document.createElement('div');\n",
       "          docLink.innerHTML = docLinkHtml;\n",
       "          element.appendChild(docLink);\n",
       "        }\n",
       "      </script>\n",
       "    </div>\n",
       "  </div>\n",
       "  "
      ],
      "text/plain": [
       "     Quantidade\n",
       "Mês            \n",
       "Abr         112\n",
       "Fev         209\n",
       "Jan         155\n",
       "Mar         124"
      ]
     },
     "execution_count": 67,
     "metadata": {},
     "output_type": "execute_result"
    }
   ],
   "source": [
    "df_mes = df_vendas.pivot_table(index='Mês', values='Quantidade', aggfunc='sum')\n",
    "df_mes"
   ]
  },
  {
   "cell_type": "code",
   "execution_count": null,
   "id": "KjSuA0LInbAG",
   "metadata": {
    "colab": {
     "base_uri": "https://localhost:8080/",
     "height": 248
    },
    "executionInfo": {
     "elapsed": 476,
     "status": "ok",
     "timestamp": 1663974685696,
     "user": {
      "displayName": "Pablo Bizzi",
      "userId": "14371154040405520361"
     },
     "user_tz": 180
    },
    "id": "KjSuA0LInbAG",
    "outputId": "ee987d85-8c2e-464a-cc76-86dc89636d1e"
   },
   "outputs": [
    {
     "data": {
      "image/png": "[encoded data removed]",
      "text/plain": [
       "<Figure size 432x288 with 1 Axes>"
      ]
     },
     "metadata": {},
     "output_type": "display_data"
    }
   ],
   "source": [
    "plt.pie('Quantidade', data=df_mes, autopct='%1.0f%%')\n",
    "plt.legend(labels=['Jan', 'Fev', 'Mar', 'Abr']);"
   ]
  },
  {
   "cell_type": "code",
   "execution_count": null,
   "id": "ad0e8d91",
   "metadata": {
    "colab": {
     "base_uri": "https://localhost:8080/"
    },
    "executionInfo": {
     "elapsed": 415,
     "status": "ok",
     "timestamp": 1663974725198,
     "user": {
      "displayName": "Pablo Bizzi",
      "userId": "14371154040405520361"
     },
     "user_tz": 180
    },
    "id": "ad0e8d91",
    "outputId": "cb4b7084-96d9-478c-8cf0-357edac42132"
   },
   "outputs": [
    {
     "data": {
      "text/plain": [
       "0     Jan\n",
       "1     Fev\n",
       "2     Mar\n",
       "3     Abr\n",
       "4     Jan\n",
       "5     Fev\n",
       "6     Mar\n",
       "7     Abr\n",
       "8     Jan\n",
       "9     Fev\n",
       "10    Mar\n",
       "11    Abr\n",
       "Name: Mês, dtype: category\n",
       "Categories (4, object): ['Jan' < 'Fev' < 'Mar' < 'Abr']"
      ]
     },
     "execution_count": 74,
     "metadata": {},
     "output_type": "execute_result"
    }
   ],
   "source": [
    "df_vendas['Mês'] = pd.Categorical(df_vendas['Mês'], categories=[\"Jan\", \"Fev\", \"Mar\", \"Abr\"], ordered=True)\n",
    "df_vendas['Mês']"
   ]
  },
  {
   "cell_type": "code",
   "execution_count": null,
   "id": "kO4GPdPhma_t",
   "metadata": {
    "colab": {
     "base_uri": "https://localhost:8080/",
     "height": 206
    },
    "executionInfo": {
     "elapsed": 4,
     "status": "ok",
     "timestamp": 1663974728643,
     "user": {
      "displayName": "Pablo Bizzi",
      "userId": "14371154040405520361"
     },
     "user_tz": 180
    },
    "id": "kO4GPdPhma_t",
    "outputId": "52f33f48-b3eb-42d6-b3eb-7f7c0434acb3"
   },
   "outputs": [
    {
     "data": {
      "text/html": [
       "\n",
       "  <div id=\"df-c52583d9-c960-485f-9d04-f68207f0f784\">\n",
       "    <div class=\"colab-df-container\">\n",
       "      <div>\n",
       "<style scoped>\n",
       "    .dataframe tbody tr th:only-of-type {\n",
       "        vertical-align: middle;\n",
       "    }\n",
       "\n",
       "    .dataframe tbody tr th {\n",
       "        vertical-align: top;\n",
       "    }\n",
       "\n",
       "    .dataframe thead th {\n",
       "        text-align: right;\n",
       "    }\n",
       "</style>\n",
       "<table border=\"1\" class=\"dataframe\">\n",
       "  <thead>\n",
       "    <tr style=\"text-align: right;\">\n",
       "      <th></th>\n",
       "      <th>Quantidade</th>\n",
       "    </tr>\n",
       "    <tr>\n",
       "      <th>Mês</th>\n",
       "      <th></th>\n",
       "    </tr>\n",
       "  </thead>\n",
       "  <tbody>\n",
       "    <tr>\n",
       "      <th>Jan</th>\n",
       "      <td>155</td>\n",
       "    </tr>\n",
       "    <tr>\n",
       "      <th>Fev</th>\n",
       "      <td>209</td>\n",
       "    </tr>\n",
       "    <tr>\n",
       "      <th>Mar</th>\n",
       "      <td>124</td>\n",
       "    </tr>\n",
       "    <tr>\n",
       "      <th>Abr</th>\n",
       "      <td>112</td>\n",
       "    </tr>\n",
       "  </tbody>\n",
       "</table>\n",
       "</div>\n",
       "      <button class=\"colab-df-convert\" onclick=\"convertToInteractive('df-c52583d9-c960-485f-9d04-f68207f0f784')\"\n",
       "              title=\"Convert this dataframe to an interactive table.\"\n",
       "              style=\"display:none;\">\n",
       "        \n",
       "  <svg xmlns=\"http://www.w3.org/2000/svg\" height=\"24px\"viewBox=\"0 0 24 24\"\n",
       "       width=\"24px\">\n",
       "    <path d=\"M0 0h24v24H0V0z\" fill=\"none\"/>\n",
       "    <path d=\"M18.56 5.44l.94 2.06.94-2.06 2.06-.94-2.06-.94-.94-2.06-.94 2.06-2.06.94zm-11 1L8.5 8.5l.94-2.06 2.06-.94-2.06-.94L8.5 2.5l-.94 2.06-2.06.94zm10 10l.94 2.06.94-2.06 2.06-.94-2.06-.94-.94-2.06-.94 2.06-2.06.94z\"/><path d=\"M17.41 7.96l-1.37-1.37c-.4-.4-.92-.59-1.43-.59-.52 0-1.04.2-1.43.59L10.3 9.45l-7.72 7.72c-.78.78-.78 2.05 0 2.83L4 21.41c.39.39.9.59 1.41.59.51 0 1.02-.2 1.41-.59l7.78-7.78 2.81-2.81c.8-.78.8-2.07 0-2.86zM5.41 20L4 18.59l7.72-7.72 1.47 1.35L5.41 20z\"/>\n",
       "  </svg>\n",
       "      </button>\n",
       "      \n",
       "  <style>\n",
       "    .colab-df-container {\n",
       "      display:flex;\n",
       "      flex-wrap:wrap;\n",
       "      gap: 12px;\n",
       "    }\n",
       "\n",
       "    .colab-df-convert {\n",
       "      background-color: #E8F0FE;\n",
       "      border: none;\n",
       "      border-radius: 50%;\n",
       "      cursor: pointer;\n",
       "      display: none;\n",
       "      fill: #1967D2;\n",
       "      height: 32px;\n",
       "      padding: 0 0 0 0;\n",
       "      width: 32px;\n",
       "    }\n",
       "\n",
       "    .colab-df-convert:hover {\n",
       "      background-color: #E2EBFA;\n",
       "      box-shadow: 0px 1px 2px rgba(60, 64, 67, 0.3), 0px 1px 3px 1px rgba(60, 64, 67, 0.15);\n",
       "      fill: #174EA6;\n",
       "    }\n",
       "\n",
       "    [theme=dark] .colab-df-convert {\n",
       "      background-color: #3B4455;\n",
       "      fill: #D2E3FC;\n",
       "    }\n",
       "\n",
       "    [theme=dark] .colab-df-convert:hover {\n",
       "      background-color: #434B5C;\n",
       "      box-shadow: 0px 1px 3px 1px rgba(0, 0, 0, 0.15);\n",
       "      filter: drop-shadow(0px 1px 2px rgba(0, 0, 0, 0.3));\n",
       "      fill: #FFFFFF;\n",
       "    }\n",
       "  </style>\n",
       "\n",
       "      <script>\n",
       "        const buttonEl =\n",
       "          document.querySelector('#df-c52583d9-c960-485f-9d04-f68207f0f784 button.colab-df-convert');\n",
       "        buttonEl.style.display =\n",
       "          google.colab.kernel.accessAllowed ? 'block' : 'none';\n",
       "\n",
       "        async function convertToInteractive(key) {\n",
       "          const element = document.querySelector('#df-c52583d9-c960-485f-9d04-f68207f0f784');\n",
       "          const dataTable =\n",
       "            await google.colab.kernel.invokeFunction('convertToInteractive',\n",
       "                                                     [key], {});\n",
       "          if (!dataTable) return;\n",
       "\n",
       "          const docLinkHtml = 'Like what you see? Visit the ' +\n",
       "            '<a target=\"_blank\" href=https://colab.research.google.com/notebooks/data_table.ipynb>data table notebook</a>'\n",
       "            + ' to learn more about interactive tables.';\n",
       "          element.innerHTML = '';\n",
       "          dataTable['output_type'] = 'display_data';\n",
       "          await google.colab.output.renderOutput(dataTable, element);\n",
       "          const docLink = document.createElement('div');\n",
       "          docLink.innerHTML = docLinkHtml;\n",
       "          element.appendChild(docLink);\n",
       "        }\n",
       "      </script>\n",
       "    </div>\n",
       "  </div>\n",
       "  "
      ],
      "text/plain": [
       "     Quantidade\n",
       "Mês            \n",
       "Jan         155\n",
       "Fev         209\n",
       "Mar         124\n",
       "Abr         112"
      ]
     },
     "execution_count": 75,
     "metadata": {},
     "output_type": "execute_result"
    }
   ],
   "source": [
    "df_vendas['Mês'] = pd.Categorical(df_vendas['Mês'], categories=[\"Jan\", \"Fev\", \"Mar\", \"Abr\"], ordered=True)\n",
    "df_mes = df_vendas.pivot_table(index='Mês', values='Quantidade', aggfunc='sum')\n",
    "df_mes.head()"
   ]
  },
  {
   "cell_type": "code",
   "execution_count": null,
   "id": "3fcc2015",
   "metadata": {
    "colab": {
     "base_uri": "https://localhost:8080/",
     "height": 248
    },
    "executionInfo": {
     "elapsed": 6,
     "status": "ok",
     "timestamp": 1663974416397,
     "user": {
      "displayName": "Pablo Bizzi",
      "userId": "14371154040405520361"
     },
     "user_tz": 180
    },
    "id": "3fcc2015",
    "outputId": "182037be-b029-4402-e556-93b63dbc0a68"
   },
   "outputs": [
    {
     "data": {
      "image/png": "[encoded data removed]",
      "text/plain": [
       "<Figure size 432x288 with 1 Axes>"
      ]
     },
     "metadata": {},
     "output_type": "display_data"
    }
   ],
   "source": [
    "plt.pie('Quantidade', data=df_mes, autopct='%1.0f%%')\n",
    "plt.legend(labels=['Jan', 'Fev', 'Mar', 'Abr']);"
   ]
  },
  {
   "cell_type": "markdown",
   "id": "b2f58905",
   "metadata": {
    "id": "b2f58905"
   },
   "source": [
    "## Barras\n",
    "**Documentação**: https://matplotlib.org/stable/api/_as_gen/matplotlib.pyplot.bar.html"
   ]
  },
  {
   "cell_type": "code",
   "execution_count": null,
   "id": "09b1ac70",
   "metadata": {
    "colab": {
     "base_uri": "https://localhost:8080/",
     "height": 265
    },
    "executionInfo": {
     "elapsed": 424,
     "status": "ok",
     "timestamp": 1663974845009,
     "user": {
      "displayName": "Pablo Bizzi",
      "userId": "14371154040405520361"
     },
     "user_tz": 180
    },
    "id": "09b1ac70",
    "outputId": "23e2a44b-0544-4210-b455-a9c6a651d62e"
   },
   "outputs": [
    {
     "data": {
      "image/png": "[encoded data removed]",
      "text/plain": [
       "<Figure size 432x288 with 1 Axes>"
      ]
     },
     "metadata": {
      "needs_background": "light"
     },
     "output_type": "display_data"
    }
   ],
   "source": [
    "plt.bar(df_veiculo.index, df_veiculo['Quantidade'], color=['green', '#4682B4', 'yellow']);"
   ]
  },
  {
   "cell_type": "code",
   "execution_count": null,
   "id": "6adfcaae",
   "metadata": {
    "colab": {
     "base_uri": "https://localhost:8080/",
     "height": 281
    },
    "executionInfo": {
     "elapsed": 467,
     "status": "ok",
     "timestamp": 1663974878775,
     "user": {
      "displayName": "Pablo Bizzi",
      "userId": "14371154040405520361"
     },
     "user_tz": 180
    },
    "id": "6adfcaae",
    "outputId": "3d6f86b7-8336-4704-a052-5f233ccb794e"
   },
   "outputs": [
    {
     "data": {
      "image/png": "[encoded data removed]",
      "text/plain": [
       "<Figure size 432x288 with 1 Axes>"
      ]
     },
     "metadata": {
      "needs_background": "light"
     },
     "output_type": "display_data"
    }
   ],
   "source": [
    "ax = plt.bar(df_mes.index, df_mes['Quantidade'], color=['#7FFFD4', '#66CDAA', '#5F9EA0', '#008080'])\n",
    "plt.title('Quantidade de vendas por mês');"
   ]
  },
  {
   "cell_type": "markdown",
   "id": "1807171d",
   "metadata": {
    "id": "1807171d"
   },
   "source": [
    "**Barras Horizontais**"
   ]
  },
  {
   "cell_type": "code",
   "execution_count": null,
   "id": "b98b6d04",
   "metadata": {
    "colab": {
     "base_uri": "https://localhost:8080/",
     "height": 265
    },
    "executionInfo": {
     "elapsed": 423,
     "status": "ok",
     "timestamp": 1663974913111,
     "user": {
      "displayName": "Pablo Bizzi",
      "userId": "14371154040405520361"
     },
     "user_tz": 180
    },
    "id": "b98b6d04",
    "outputId": "c15e3862-1191-4531-f8e0-7e7ad3de4641"
   },
   "outputs": [
    {
     "data": {
      "image/png": "[encoded data removed]",
      "text/plain": [
       "<Figure size 432x288 with 1 Axes>"
      ]
     },
     "metadata": {
      "needs_background": "light"
     },
     "output_type": "display_data"
    }
   ],
   "source": [
    "plt.barh(df_vendas['Veículo'], df_vendas['Quantidade']);"
   ]
  },
  {
   "cell_type": "markdown",
   "id": "47b5af03",
   "metadata": {
    "id": "47b5af03"
   },
   "source": [
    "## Histograma\n",
    "**Documentação**: https://matplotlib.org/stable/gallery/statistics/hist.html"
   ]
  },
  {
   "cell_type": "code",
   "execution_count": 1,
   "id": "971faff0",
   "metadata": {
    "colab": {
     "base_uri": "https://localhost:8080/",
     "height": 166
    },
    "executionInfo": {
     "elapsed": 8,
     "status": "error",
     "timestamp": 1664563737123,
     "user": {
      "displayName": "Pablo Bizzi",
      "userId": "14371154040405520361"
     },
     "user_tz": 180
    },
    "id": "971faff0",
    "outputId": "7992feee-5bf8-450f-ff3e-387883a90ac5"
   },
   "outputs": [
    {
     "ename": "NameError",
     "evalue": "ignored",
     "output_type": "error",
     "traceback": [
      "\u001b[0;31m---------------------------------------------------------------------------\u001b[0m",
      "\u001b[0;31mNameError\u001b[0m                                 Traceback (most recent call last)",
      "\u001b[0;32m<ipython-input-1-aef1347bdf2d>\u001b[0m in \u001b[0;36m<module>\u001b[0;34m\u001b[0m\n\u001b[0;32m----> 1\u001b[0;31m \u001b[0mplt\u001b[0m\u001b[0;34m.\u001b[0m\u001b[0mhist\u001b[0m\u001b[0;34m(\u001b[0m\u001b[0mx\u001b[0m\u001b[0;34m=\u001b[0m\u001b[0mdf_size\u001b[0m\u001b[0;34m[\u001b[0m\u001b[0;34m'body_mass_g'\u001b[0m\u001b[0;34m]\u001b[0m\u001b[0;34m,\u001b[0m \u001b[0malpha\u001b[0m\u001b[0;34m=\u001b[0m\u001b[0;36m0.5\u001b[0m\u001b[0;34m,\u001b[0m \u001b[0mcolor\u001b[0m\u001b[0;34m=\u001b[0m\u001b[0;34m'green'\u001b[0m\u001b[0;34m)\u001b[0m\u001b[0;34m;\u001b[0m\u001b[0;34m\u001b[0m\u001b[0;34m\u001b[0m\u001b[0m\n\u001b[0m",
      "\u001b[0;31mNameError\u001b[0m: name 'plt' is not defined"
     ]
    }
   ],
   "source": [
    "plt.hist(x=df_size['body_mass_g'], alpha=0.5, color='green');"
   ]
  },
  {
   "cell_type": "code",
   "execution_count": null,
   "id": "fbf0b2cf",
   "metadata": {
    "executionInfo": {
     "elapsed": 5,
     "status": "aborted",
     "timestamp": 1664563737124,
     "user": {
      "displayName": "Pablo Bizzi",
      "userId": "14371154040405520361"
     },
     "user_tz": 180
    },
    "id": "fbf0b2cf",
    "scrolled": true
   },
   "outputs": [],
   "source": [
    "plt.hist(df_size['body_mass_g'], alpha=0.4, color='green', edgecolor='black')\n",
    "plt.xlabel('Massa dos Pinguins', fontsize=12);"
   ]
  },
  {
   "cell_type": "markdown",
   "id": "88db82af",
   "metadata": {
    "id": "88db82af"
   },
   "source": [
    "## Boxplot\n",
    "**Documentação**: https://matplotlib.org/3.1.1/api/_as_gen/matplotlib.pyplot.boxplot.html"
   ]
  },
  {
   "cell_type": "code",
   "execution_count": null,
   "id": "27de0bd1",
   "metadata": {
    "colab": {
     "base_uri": "https://localhost:8080/",
     "height": 265
    },
    "executionInfo": {
     "elapsed": 5,
     "status": "ok",
     "timestamp": 1663975053134,
     "user": {
      "displayName": "Pablo Bizzi",
      "userId": "14371154040405520361"
     },
     "user_tz": 180
    },
    "id": "27de0bd1",
    "outputId": "9153561d-02fc-438c-b97a-40f6a75a628a"
   },
   "outputs": [
    {
     "data": {
      "image/png": "[encoded data removed]",
      "text/plain": [
       "<Figure size 432x288 with 1 Axes>"
      ]
     },
     "metadata": {
      "needs_background": "light"
     },
     "output_type": "display_data"
    }
   ],
   "source": [
    "plt.boxplot(df_tratado['body_mass_g']);"
   ]
  },
  {
   "cell_type": "markdown",
   "id": "a3848f44",
   "metadata": {
    "id": "a3848f44"
   },
   "source": [
    "## Exercício\n",
    "Agora é hora de praticar!  \n",
    "  \n",
    "Os bancos obtêm uma receita importante com empréstimos concedidos. Mas muitas vezes está associado ao risco. O mutuário pode não pagar o empréstimo. Para mitigar esse problema, os bancos decidiram usar o Machine Learning para superar esse problema. Eles coletaram dados anteriores sobre os tomadores de empréstimos e gostariam que você desenvolvesse um modelo de ML forte para classificar se algum novo devedor provavelmente entrará em default ou não.  \n",
    "  \n",
    "O conjunto de dados é enorme e consiste em vários fatores determinísticos, como renda do mutuário, gênero, finalidade do empréstimo, etc. O conjunto de dados está sujeito a uma forte multicolinearidade e valores vazios. Você pode superar esses fatores e construir um classificador forte para prever inadimplentes?"
   ]
  },
  {
   "cell_type": "markdown",
   "id": "d46cf823",
   "metadata": {
    "id": "d46cf823"
   },
   "source": [
    "Importe a base **Loan_Default.csv** que está em csv dentro do diretório **data**."
   ]
  },
  {
   "cell_type": "code",
   "execution_count": null,
   "id": "8a440e00",
   "metadata": {
    "id": "8a440e00",
    "scrolled": true
   },
   "outputs": [],
   "source": [
    "import pandas as pd\n",
    "import numpy as np\n",
    "import matplotlib.pyplot as plt"
   ]
  },
  {
   "cell_type": "code",
   "execution_count": null,
   "id": "f26b0f2d",
   "metadata": {
    "colab": {
     "base_uri": "https://localhost:8080/",
     "height": 386
    },
    "executionInfo": {
     "elapsed": 926,
     "status": "ok",
     "timestamp": 1663975111441,
     "user": {
      "displayName": "Pablo Bizzi",
      "userId": "14371154040405520361"
     },
     "user_tz": 180
    },
    "id": "f26b0f2d",
    "outputId": "4bc76c8b-5b1e-4ba4-96a1-ab3867c56a6a"
   },
   "outputs": [
    {
     "data": {
      "text/html": [
       "\n",
       "  <div id=\"df-e7a6633d-72d2-4529-82ad-1c56e0d7eb11\">\n",
       "    <div class=\"colab-df-container\">\n",
       "      <div>\n",
       "<style scoped>\n",
       "    .dataframe tbody tr th:only-of-type {\n",
       "        vertical-align: middle;\n",
       "    }\n",
       "\n",
       "    .dataframe tbody tr th {\n",
       "        vertical-align: top;\n",
       "    }\n",
       "\n",
       "    .dataframe thead th {\n",
       "        text-align: right;\n",
       "    }\n",
       "</style>\n",
       "<table border=\"1\" class=\"dataframe\">\n",
       "  <thead>\n",
       "    <tr style=\"text-align: right;\">\n",
       "      <th></th>\n",
       "      <th>ID</th>\n",
       "      <th>year</th>\n",
       "      <th>loan_limit</th>\n",
       "      <th>Gender</th>\n",
       "      <th>approv_in_adv</th>\n",
       "      <th>loan_type</th>\n",
       "      <th>loan_purpose</th>\n",
       "      <th>Credit_Worthiness</th>\n",
       "      <th>open_credit</th>\n",
       "      <th>business_or_commercial</th>\n",
       "      <th>...</th>\n",
       "      <th>construction_type</th>\n",
       "      <th>occupancy_type</th>\n",
       "      <th>income</th>\n",
       "      <th>credit_type</th>\n",
       "      <th>Credit_Score</th>\n",
       "      <th>age</th>\n",
       "      <th>submission_of_application</th>\n",
       "      <th>LTV</th>\n",
       "      <th>Region</th>\n",
       "      <th>Status</th>\n",
       "    </tr>\n",
       "  </thead>\n",
       "  <tbody>\n",
       "    <tr>\n",
       "      <th>0</th>\n",
       "      <td>24890</td>\n",
       "      <td>2019</td>\n",
       "      <td>cf</td>\n",
       "      <td>Sex Not Available</td>\n",
       "      <td>nopre</td>\n",
       "      <td>type1</td>\n",
       "      <td>p1</td>\n",
       "      <td>l1</td>\n",
       "      <td>nopc</td>\n",
       "      <td>nob/c</td>\n",
       "      <td>...</td>\n",
       "      <td>sb</td>\n",
       "      <td>pr</td>\n",
       "      <td>1740.0</td>\n",
       "      <td>EXP</td>\n",
       "      <td>758</td>\n",
       "      <td>25-34</td>\n",
       "      <td>to_inst</td>\n",
       "      <td>98.728814</td>\n",
       "      <td>south</td>\n",
       "      <td>1</td>\n",
       "    </tr>\n",
       "    <tr>\n",
       "      <th>1</th>\n",
       "      <td>24891</td>\n",
       "      <td>2019</td>\n",
       "      <td>cf</td>\n",
       "      <td>Male</td>\n",
       "      <td>nopre</td>\n",
       "      <td>type2</td>\n",
       "      <td>p1</td>\n",
       "      <td>l1</td>\n",
       "      <td>nopc</td>\n",
       "      <td>b/c</td>\n",
       "      <td>...</td>\n",
       "      <td>sb</td>\n",
       "      <td>pr</td>\n",
       "      <td>4980.0</td>\n",
       "      <td>EQUI</td>\n",
       "      <td>552</td>\n",
       "      <td>55-64</td>\n",
       "      <td>to_inst</td>\n",
       "      <td>NaN</td>\n",
       "      <td>North</td>\n",
       "      <td>1</td>\n",
       "    </tr>\n",
       "    <tr>\n",
       "      <th>2</th>\n",
       "      <td>24892</td>\n",
       "      <td>2019</td>\n",
       "      <td>cf</td>\n",
       "      <td>Male</td>\n",
       "      <td>pre</td>\n",
       "      <td>type1</td>\n",
       "      <td>p1</td>\n",
       "      <td>l1</td>\n",
       "      <td>nopc</td>\n",
       "      <td>nob/c</td>\n",
       "      <td>...</td>\n",
       "      <td>sb</td>\n",
       "      <td>pr</td>\n",
       "      <td>9480.0</td>\n",
       "      <td>EXP</td>\n",
       "      <td>834</td>\n",
       "      <td>35-44</td>\n",
       "      <td>to_inst</td>\n",
       "      <td>80.019685</td>\n",
       "      <td>south</td>\n",
       "      <td>0</td>\n",
       "    </tr>\n",
       "    <tr>\n",
       "      <th>3</th>\n",
       "      <td>24893</td>\n",
       "      <td>2019</td>\n",
       "      <td>cf</td>\n",
       "      <td>Male</td>\n",
       "      <td>nopre</td>\n",
       "      <td>type1</td>\n",
       "      <td>p4</td>\n",
       "      <td>l1</td>\n",
       "      <td>nopc</td>\n",
       "      <td>nob/c</td>\n",
       "      <td>...</td>\n",
       "      <td>sb</td>\n",
       "      <td>pr</td>\n",
       "      <td>11880.0</td>\n",
       "      <td>EXP</td>\n",
       "      <td>587</td>\n",
       "      <td>45-54</td>\n",
       "      <td>not_inst</td>\n",
       "      <td>69.376900</td>\n",
       "      <td>North</td>\n",
       "      <td>0</td>\n",
       "    </tr>\n",
       "    <tr>\n",
       "      <th>4</th>\n",
       "      <td>24894</td>\n",
       "      <td>2019</td>\n",
       "      <td>cf</td>\n",
       "      <td>Joint</td>\n",
       "      <td>pre</td>\n",
       "      <td>type1</td>\n",
       "      <td>p1</td>\n",
       "      <td>l1</td>\n",
       "      <td>nopc</td>\n",
       "      <td>nob/c</td>\n",
       "      <td>...</td>\n",
       "      <td>sb</td>\n",
       "      <td>pr</td>\n",
       "      <td>10440.0</td>\n",
       "      <td>CRIF</td>\n",
       "      <td>602</td>\n",
       "      <td>25-34</td>\n",
       "      <td>not_inst</td>\n",
       "      <td>91.886544</td>\n",
       "      <td>North</td>\n",
       "      <td>0</td>\n",
       "    </tr>\n",
       "  </tbody>\n",
       "</table>\n",
       "<p>5 rows × 25 columns</p>\n",
       "</div>\n",
       "      <button class=\"colab-df-convert\" onclick=\"convertToInteractive('df-e7a6633d-72d2-4529-82ad-1c56e0d7eb11')\"\n",
       "              title=\"Convert this dataframe to an interactive table.\"\n",
       "              style=\"display:none;\">\n",
       "        \n",
       "  <svg xmlns=\"http://www.w3.org/2000/svg\" height=\"24px\"viewBox=\"0 0 24 24\"\n",
       "       width=\"24px\">\n",
       "    <path d=\"M0 0h24v24H0V0z\" fill=\"none\"/>\n",
       "    <path d=\"M18.56 5.44l.94 2.06.94-2.06 2.06-.94-2.06-.94-.94-2.06-.94 2.06-2.06.94zm-11 1L8.5 8.5l.94-2.06 2.06-.94-2.06-.94L8.5 2.5l-.94 2.06-2.06.94zm10 10l.94 2.06.94-2.06 2.06-.94-2.06-.94-.94-2.06-.94 2.06-2.06.94z\"/><path d=\"M17.41 7.96l-1.37-1.37c-.4-.4-.92-.59-1.43-.59-.52 0-1.04.2-1.43.59L10.3 9.45l-7.72 7.72c-.78.78-.78 2.05 0 2.83L4 21.41c.39.39.9.59 1.41.59.51 0 1.02-.2 1.41-.59l7.78-7.78 2.81-2.81c.8-.78.8-2.07 0-2.86zM5.41 20L4 18.59l7.72-7.72 1.47 1.35L5.41 20z\"/>\n",
       "  </svg>\n",
       "      </button>\n",
       "      \n",
       "  <style>\n",
       "    .colab-df-container {\n",
       "      display:flex;\n",
       "      flex-wrap:wrap;\n",
       "      gap: 12px;\n",
       "    }\n",
       "\n",
       "    .colab-df-convert {\n",
       "      background-color: #E8F0FE;\n",
       "      border: none;\n",
       "      border-radius: 50%;\n",
       "      cursor: pointer;\n",
       "      display: none;\n",
       "      fill: #1967D2;\n",
       "      height: 32px;\n",
       "      padding: 0 0 0 0;\n",
       "      width: 32px;\n",
       "    }\n",
       "\n",
       "    .colab-df-convert:hover {\n",
       "      background-color: #E2EBFA;\n",
       "      box-shadow: 0px 1px 2px rgba(60, 64, 67, 0.3), 0px 1px 3px 1px rgba(60, 64, 67, 0.15);\n",
       "      fill: #174EA6;\n",
       "    }\n",
       "\n",
       "    [theme=dark] .colab-df-convert {\n",
       "      background-color: #3B4455;\n",
       "      fill: #D2E3FC;\n",
       "    }\n",
       "\n",
       "    [theme=dark] .colab-df-convert:hover {\n",
       "      background-color: #434B5C;\n",
       "      box-shadow: 0px 1px 3px 1px rgba(0, 0, 0, 0.15);\n",
       "      filter: drop-shadow(0px 1px 2px rgba(0, 0, 0, 0.3));\n",
       "      fill: #FFFFFF;\n",
       "    }\n",
       "  </style>\n",
       "\n",
       "      <script>\n",
       "        const buttonEl =\n",
       "          document.querySelector('#df-e7a6633d-72d2-4529-82ad-1c56e0d7eb11 button.colab-df-convert');\n",
       "        buttonEl.style.display =\n",
       "          google.colab.kernel.accessAllowed ? 'block' : 'none';\n",
       "\n",
       "        async function convertToInteractive(key) {\n",
       "          const element = document.querySelector('#df-e7a6633d-72d2-4529-82ad-1c56e0d7eb11');\n",
       "          const dataTable =\n",
       "            await google.colab.kernel.invokeFunction('convertToInteractive',\n",
       "                                                     [key], {});\n",
       "          if (!dataTable) return;\n",
       "\n",
       "          const docLinkHtml = 'Like what you see? Visit the ' +\n",
       "            '<a target=\"_blank\" href=https://colab.research.google.com/notebooks/data_table.ipynb>data table notebook</a>'\n",
       "            + ' to learn more about interactive tables.';\n",
       "          element.innerHTML = '';\n",
       "          dataTable['output_type'] = 'display_data';\n",
       "          await google.colab.output.renderOutput(dataTable, element);\n",
       "          const docLink = document.createElement('div');\n",
       "          docLink.innerHTML = docLinkHtml;\n",
       "          element.appendChild(docLink);\n",
       "        }\n",
       "      </script>\n",
       "    </div>\n",
       "  </div>\n",
       "  "
      ],
      "text/plain": [
       "      ID  year loan_limit             Gender approv_in_adv loan_type  \\\n",
       "0  24890  2019         cf  Sex Not Available         nopre     type1   \n",
       "1  24891  2019         cf               Male         nopre     type2   \n",
       "2  24892  2019         cf               Male           pre     type1   \n",
       "3  24893  2019         cf               Male         nopre     type1   \n",
       "4  24894  2019         cf              Joint           pre     type1   \n",
       "\n",
       "  loan_purpose Credit_Worthiness open_credit business_or_commercial  ...  \\\n",
       "0           p1                l1        nopc                  nob/c  ...   \n",
       "1           p1                l1        nopc                    b/c  ...   \n",
       "2           p1                l1        nopc                  nob/c  ...   \n",
       "3           p4                l1        nopc                  nob/c  ...   \n",
       "4           p1                l1        nopc                  nob/c  ...   \n",
       "\n",
       "   construction_type  occupancy_type   income credit_type  Credit_Score  \\\n",
       "0                 sb              pr   1740.0         EXP           758   \n",
       "1                 sb              pr   4980.0        EQUI           552   \n",
       "2                 sb              pr   9480.0         EXP           834   \n",
       "3                 sb              pr  11880.0         EXP           587   \n",
       "4                 sb              pr  10440.0        CRIF           602   \n",
       "\n",
       "     age submission_of_application        LTV Region  Status  \n",
       "0  25-34                   to_inst  98.728814  south       1  \n",
       "1  55-64                   to_inst        NaN  North       1  \n",
       "2  35-44                   to_inst  80.019685  south       0  \n",
       "3  45-54                  not_inst  69.376900  North       0  \n",
       "4  25-34                  not_inst  91.886544  North       0  \n",
       "\n",
       "[5 rows x 25 columns]"
      ]
     },
     "execution_count": 91,
     "metadata": {},
     "output_type": "execute_result"
    }
   ],
   "source": [
    "df_loan = pd.read_csv('sample_data/Loan_Default.csv')\n",
    "df_loan.head()"
   ]
  },
  {
   "cell_type": "code",
   "execution_count": null,
   "id": "a3ace4eb",
   "metadata": {
    "colab": {
     "base_uri": "https://localhost:8080/"
    },
    "executionInfo": {
     "elapsed": 419,
     "status": "ok",
     "timestamp": 1663975149211,
     "user": {
      "displayName": "Pablo Bizzi",
      "userId": "14371154040405520361"
     },
     "user_tz": 180
    },
    "id": "a3ace4eb",
    "outputId": "d93d273c-44e2-4829-ec3f-b980b5f23494"
   },
   "outputs": [
    {
     "data": {
      "text/plain": [
       "Index(['ID', 'year', 'loan_limit', 'Gender', 'approv_in_adv', 'loan_type',\n",
       "       'loan_purpose', 'Credit_Worthiness', 'open_credit',\n",
       "       'business_or_commercial', 'loan_amount', 'rate_of_interest',\n",
       "       'interest_only', 'lump_sum_payment', 'property_value',\n",
       "       'construction_type', 'occupancy_type', 'income', 'credit_type',\n",
       "       'Credit_Score', 'age', 'submission_of_application', 'LTV', 'Region',\n",
       "       'Status'],\n",
       "      dtype='object')"
      ]
     },
     "execution_count": 92,
     "metadata": {},
     "output_type": "execute_result"
    }
   ],
   "source": [
    "df_loan.columns"
   ]
  },
  {
   "cell_type": "markdown",
   "id": "aea84c03",
   "metadata": {
    "id": "aea84c03"
   },
   "source": [
    "Verifique com a função .info os campos presentes na tabela"
   ]
  },
  {
   "cell_type": "code",
   "execution_count": null,
   "id": "410524e6",
   "metadata": {
    "colab": {
     "base_uri": "https://localhost:8080/"
    },
    "executionInfo": {
     "elapsed": 559,
     "status": "ok",
     "timestamp": 1663975154967,
     "user": {
      "displayName": "Pablo Bizzi",
      "userId": "14371154040405520361"
     },
     "user_tz": 180
    },
    "id": "410524e6",
    "outputId": "236074b4-6bbf-4ce8-9c38-065427ddc858",
    "scrolled": false
   },
   "outputs": [
    {
     "name": "stdout",
     "output_type": "stream",
     "text": [
      "<class 'pandas.core.frame.DataFrame'>\n",
      "RangeIndex: 148670 entries, 0 to 148669\n",
      "Data columns (total 25 columns):\n",
      " #   Column                     Non-Null Count   Dtype  \n",
      "---  ------                     --------------   -----  \n",
      " 0   ID                         148670 non-null  int64  \n",
      " 1   year                       148670 non-null  int64  \n",
      " 2   loan_limit                 145326 non-null  object \n",
      " 3   Gender                     148670 non-null  object \n",
      " 4   approv_in_adv              147762 non-null  object \n",
      " 5   loan_type                  148670 non-null  object \n",
      " 6   loan_purpose               148536 non-null  object \n",
      " 7   Credit_Worthiness          148670 non-null  object \n",
      " 8   open_credit                148670 non-null  object \n",
      " 9   business_or_commercial     148670 non-null  object \n",
      " 10  loan_amount                148670 non-null  int64  \n",
      " 11  rate_of_interest           112231 non-null  float64\n",
      " 12  interest_only              148670 non-null  object \n",
      " 13  lump_sum_payment           148670 non-null  object \n",
      " 14  property_value             133572 non-null  float64\n",
      " 15  construction_type          148670 non-null  object \n",
      " 16  occupancy_type             148670 non-null  object \n",
      " 17  income                     139520 non-null  float64\n",
      " 18  credit_type                148670 non-null  object \n",
      " 19  Credit_Score               148670 non-null  int64  \n",
      " 20  age                        148470 non-null  object \n",
      " 21  submission_of_application  148470 non-null  object \n",
      " 22  LTV                        133572 non-null  float64\n",
      " 23  Region                     148670 non-null  object \n",
      " 24  Status                     148670 non-null  int64  \n",
      "dtypes: float64(4), int64(5), object(16)\n",
      "memory usage: 28.4+ MB\n"
     ]
    }
   ],
   "source": [
    "df_loan.info()"
   ]
  },
  {
   "cell_type": "markdown",
   "id": "cd9dd0b7",
   "metadata": {
    "id": "cd9dd0b7"
   },
   "source": [
    "Imprima as estatísticas padrões do dataframe com a função .describe"
   ]
  },
  {
   "cell_type": "code",
   "execution_count": null,
   "id": "a46c3178",
   "metadata": {
    "colab": {
     "base_uri": "https://localhost:8080/",
     "height": 300
    },
    "executionInfo": {
     "elapsed": 845,
     "status": "ok",
     "timestamp": 1663975185075,
     "user": {
      "displayName": "Pablo Bizzi",
      "userId": "14371154040405520361"
     },
     "user_tz": 180
    },
    "id": "a46c3178",
    "outputId": "09492402-2c74-43e6-8c2f-c0d85dfbb31d"
   },
   "outputs": [
    {
     "data": {
      "text/html": [
       "\n",
       "  <div id=\"df-5ebb8d41-1aab-4df1-8b75-fde196ee8707\">\n",
       "    <div class=\"colab-df-container\">\n",
       "      <div>\n",
       "<style scoped>\n",
       "    .dataframe tbody tr th:only-of-type {\n",
       "        vertical-align: middle;\n",
       "    }\n",
       "\n",
       "    .dataframe tbody tr th {\n",
       "        vertical-align: top;\n",
       "    }\n",
       "\n",
       "    .dataframe thead th {\n",
       "        text-align: right;\n",
       "    }\n",
       "</style>\n",
       "<table border=\"1\" class=\"dataframe\">\n",
       "  <thead>\n",
       "    <tr style=\"text-align: right;\">\n",
       "      <th></th>\n",
       "      <th>ID</th>\n",
       "      <th>year</th>\n",
       "      <th>loan_amount</th>\n",
       "      <th>rate_of_interest</th>\n",
       "      <th>property_value</th>\n",
       "      <th>income</th>\n",
       "      <th>Credit_Score</th>\n",
       "      <th>LTV</th>\n",
       "      <th>Status</th>\n",
       "    </tr>\n",
       "  </thead>\n",
       "  <tbody>\n",
       "    <tr>\n",
       "      <th>count</th>\n",
       "      <td>148670.000000</td>\n",
       "      <td>148670.0</td>\n",
       "      <td>1.486700e+05</td>\n",
       "      <td>112231.000000</td>\n",
       "      <td>1.335720e+05</td>\n",
       "      <td>139520.000000</td>\n",
       "      <td>148670.000000</td>\n",
       "      <td>133572.000000</td>\n",
       "      <td>148670.000000</td>\n",
       "    </tr>\n",
       "    <tr>\n",
       "      <th>mean</th>\n",
       "      <td>99224.500000</td>\n",
       "      <td>2019.0</td>\n",
       "      <td>3.311177e+05</td>\n",
       "      <td>4.045476</td>\n",
       "      <td>4.978935e+05</td>\n",
       "      <td>6957.338876</td>\n",
       "      <td>699.789103</td>\n",
       "      <td>72.746457</td>\n",
       "      <td>0.246445</td>\n",
       "    </tr>\n",
       "    <tr>\n",
       "      <th>std</th>\n",
       "      <td>42917.476598</td>\n",
       "      <td>0.0</td>\n",
       "      <td>1.839093e+05</td>\n",
       "      <td>0.561391</td>\n",
       "      <td>3.599353e+05</td>\n",
       "      <td>6496.586382</td>\n",
       "      <td>115.875857</td>\n",
       "      <td>39.967603</td>\n",
       "      <td>0.430942</td>\n",
       "    </tr>\n",
       "    <tr>\n",
       "      <th>min</th>\n",
       "      <td>24890.000000</td>\n",
       "      <td>2019.0</td>\n",
       "      <td>1.650000e+04</td>\n",
       "      <td>0.000000</td>\n",
       "      <td>8.000000e+03</td>\n",
       "      <td>0.000000</td>\n",
       "      <td>500.000000</td>\n",
       "      <td>0.967478</td>\n",
       "      <td>0.000000</td>\n",
       "    </tr>\n",
       "    <tr>\n",
       "      <th>25%</th>\n",
       "      <td>62057.250000</td>\n",
       "      <td>2019.0</td>\n",
       "      <td>1.965000e+05</td>\n",
       "      <td>3.625000</td>\n",
       "      <td>2.680000e+05</td>\n",
       "      <td>3720.000000</td>\n",
       "      <td>599.000000</td>\n",
       "      <td>60.474860</td>\n",
       "      <td>0.000000</td>\n",
       "    </tr>\n",
       "    <tr>\n",
       "      <th>50%</th>\n",
       "      <td>99224.500000</td>\n",
       "      <td>2019.0</td>\n",
       "      <td>2.965000e+05</td>\n",
       "      <td>3.990000</td>\n",
       "      <td>4.180000e+05</td>\n",
       "      <td>5760.000000</td>\n",
       "      <td>699.000000</td>\n",
       "      <td>75.135870</td>\n",
       "      <td>0.000000</td>\n",
       "    </tr>\n",
       "    <tr>\n",
       "      <th>75%</th>\n",
       "      <td>136391.750000</td>\n",
       "      <td>2019.0</td>\n",
       "      <td>4.365000e+05</td>\n",
       "      <td>4.375000</td>\n",
       "      <td>6.280000e+05</td>\n",
       "      <td>8520.000000</td>\n",
       "      <td>800.000000</td>\n",
       "      <td>86.184211</td>\n",
       "      <td>0.000000</td>\n",
       "    </tr>\n",
       "    <tr>\n",
       "      <th>max</th>\n",
       "      <td>173559.000000</td>\n",
       "      <td>2019.0</td>\n",
       "      <td>3.576500e+06</td>\n",
       "      <td>8.000000</td>\n",
       "      <td>1.650800e+07</td>\n",
       "      <td>578580.000000</td>\n",
       "      <td>900.000000</td>\n",
       "      <td>7831.250000</td>\n",
       "      <td>1.000000</td>\n",
       "    </tr>\n",
       "  </tbody>\n",
       "</table>\n",
       "</div>\n",
       "      <button class=\"colab-df-convert\" onclick=\"convertToInteractive('df-5ebb8d41-1aab-4df1-8b75-fde196ee8707')\"\n",
       "              title=\"Convert this dataframe to an interactive table.\"\n",
       "              style=\"display:none;\">\n",
       "        \n",
       "  <svg xmlns=\"http://www.w3.org/2000/svg\" height=\"24px\"viewBox=\"0 0 24 24\"\n",
       "       width=\"24px\">\n",
       "    <path d=\"M0 0h24v24H0V0z\" fill=\"none\"/>\n",
       "    <path d=\"M18.56 5.44l.94 2.06.94-2.06 2.06-.94-2.06-.94-.94-2.06-.94 2.06-2.06.94zm-11 1L8.5 8.5l.94-2.06 2.06-.94-2.06-.94L8.5 2.5l-.94 2.06-2.06.94zm10 10l.94 2.06.94-2.06 2.06-.94-2.06-.94-.94-2.06-.94 2.06-2.06.94z\"/><path d=\"M17.41 7.96l-1.37-1.37c-.4-.4-.92-.59-1.43-.59-.52 0-1.04.2-1.43.59L10.3 9.45l-7.72 7.72c-.78.78-.78 2.05 0 2.83L4 21.41c.39.39.9.59 1.41.59.51 0 1.02-.2 1.41-.59l7.78-7.78 2.81-2.81c.8-.78.8-2.07 0-2.86zM5.41 20L4 18.59l7.72-7.72 1.47 1.35L5.41 20z\"/>\n",
       "  </svg>\n",
       "      </button>\n",
       "      \n",
       "  <style>\n",
       "    .colab-df-container {\n",
       "      display:flex;\n",
       "      flex-wrap:wrap;\n",
       "      gap: 12px;\n",
       "    }\n",
       "\n",
       "    .colab-df-convert {\n",
       "      background-color: #E8F0FE;\n",
       "      border: none;\n",
       "      border-radius: 50%;\n",
       "      cursor: pointer;\n",
       "      display: none;\n",
       "      fill: #1967D2;\n",
       "      height: 32px;\n",
       "      padding: 0 0 0 0;\n",
       "      width: 32px;\n",
       "    }\n",
       "\n",
       "    .colab-df-convert:hover {\n",
       "      background-color: #E2EBFA;\n",
       "      box-shadow: 0px 1px 2px rgba(60, 64, 67, 0.3), 0px 1px 3px 1px rgba(60, 64, 67, 0.15);\n",
       "      fill: #174EA6;\n",
       "    }\n",
       "\n",
       "    [theme=dark] .colab-df-convert {\n",
       "      background-color: #3B4455;\n",
       "      fill: #D2E3FC;\n",
       "    }\n",
       "\n",
       "    [theme=dark] .colab-df-convert:hover {\n",
       "      background-color: #434B5C;\n",
       "      box-shadow: 0px 1px 3px 1px rgba(0, 0, 0, 0.15);\n",
       "      filter: drop-shadow(0px 1px 2px rgba(0, 0, 0, 0.3));\n",
       "      fill: #FFFFFF;\n",
       "    }\n",
       "  </style>\n",
       "\n",
       "      <script>\n",
       "        const buttonEl =\n",
       "          document.querySelector('#df-5ebb8d41-1aab-4df1-8b75-fde196ee8707 button.colab-df-convert');\n",
       "        buttonEl.style.display =\n",
       "          google.colab.kernel.accessAllowed ? 'block' : 'none';\n",
       "\n",
       "        async function convertToInteractive(key) {\n",
       "          const element = document.querySelector('#df-5ebb8d41-1aab-4df1-8b75-fde196ee8707');\n",
       "          const dataTable =\n",
       "            await google.colab.kernel.invokeFunction('convertToInteractive',\n",
       "                                                     [key], {});\n",
       "          if (!dataTable) return;\n",
       "\n",
       "          const docLinkHtml = 'Like what you see? Visit the ' +\n",
       "            '<a target=\"_blank\" href=https://colab.research.google.com/notebooks/data_table.ipynb>data table notebook</a>'\n",
       "            + ' to learn more about interactive tables.';\n",
       "          element.innerHTML = '';\n",
       "          dataTable['output_type'] = 'display_data';\n",
       "          await google.colab.output.renderOutput(dataTable, element);\n",
       "          const docLink = document.createElement('div');\n",
       "          docLink.innerHTML = docLinkHtml;\n",
       "          element.appendChild(docLink);\n",
       "        }\n",
       "      </script>\n",
       "    </div>\n",
       "  </div>\n",
       "  "
      ],
      "text/plain": [
       "                  ID      year   loan_amount  rate_of_interest  \\\n",
       "count  148670.000000  148670.0  1.486700e+05     112231.000000   \n",
       "mean    99224.500000    2019.0  3.311177e+05          4.045476   \n",
       "std     42917.476598       0.0  1.839093e+05          0.561391   \n",
       "min     24890.000000    2019.0  1.650000e+04          0.000000   \n",
       "25%     62057.250000    2019.0  1.965000e+05          3.625000   \n",
       "50%     99224.500000    2019.0  2.965000e+05          3.990000   \n",
       "75%    136391.750000    2019.0  4.365000e+05          4.375000   \n",
       "max    173559.000000    2019.0  3.576500e+06          8.000000   \n",
       "\n",
       "       property_value         income   Credit_Score            LTV  \\\n",
       "count    1.335720e+05  139520.000000  148670.000000  133572.000000   \n",
       "mean     4.978935e+05    6957.338876     699.789103      72.746457   \n",
       "std      3.599353e+05    6496.586382     115.875857      39.967603   \n",
       "min      8.000000e+03       0.000000     500.000000       0.967478   \n",
       "25%      2.680000e+05    3720.000000     599.000000      60.474860   \n",
       "50%      4.180000e+05    5760.000000     699.000000      75.135870   \n",
       "75%      6.280000e+05    8520.000000     800.000000      86.184211   \n",
       "max      1.650800e+07  578580.000000     900.000000    7831.250000   \n",
       "\n",
       "              Status  \n",
       "count  148670.000000  \n",
       "mean        0.246445  \n",
       "std         0.430942  \n",
       "min         0.000000  \n",
       "25%         0.000000  \n",
       "50%         0.000000  \n",
       "75%         0.000000  \n",
       "max         1.000000  "
      ]
     },
     "execution_count": 94,
     "metadata": {},
     "output_type": "execute_result"
    }
   ],
   "source": [
    "df_loan.describe()"
   ]
  },
  {
   "cell_type": "markdown",
   "id": "fcb2e57b",
   "metadata": {
    "id": "fcb2e57b"
   },
   "source": [
    "# BORA PRATICAR"
   ]
  },
  {
   "cell_type": "markdown",
   "id": "030d0606",
   "metadata": {
    "id": "030d0606"
   },
   "source": [
    "1) Verifique sua variável de interesse (Status) como a contagem de distribuição"
   ]
  },
  {
   "cell_type": "code",
   "execution_count": null,
   "id": "6ea8e4fe",
   "metadata": {
    "colab": {
     "base_uri": "https://localhost:8080/"
    },
    "executionInfo": {
     "elapsed": 409,
     "status": "ok",
     "timestamp": 1663975295058,
     "user": {
      "displayName": "Pablo Bizzi",
      "userId": "14371154040405520361"
     },
     "user_tz": 180
    },
    "id": "6ea8e4fe",
    "outputId": "1c643cdc-f9df-4b76-8020-f84aa0e42f46"
   },
   "outputs": [
    {
     "data": {
      "text/plain": [
       "0    112031\n",
       "1     36639\n",
       "Name: Status, dtype: int64"
      ]
     },
     "execution_count": 96,
     "metadata": {},
     "output_type": "execute_result"
    }
   ],
   "source": [
    "df_status = df_loan['Status'].value_counts()\n",
    "df_status\n"
   ]
  },
  {
   "cell_type": "code",
   "execution_count": null,
   "id": "6aikz1RlqJbg",
   "metadata": {
    "colab": {
     "base_uri": "https://localhost:8080/"
    },
    "executionInfo": {
     "elapsed": 6,
     "status": "ok",
     "timestamp": 1663975387171,
     "user": {
      "displayName": "Pablo Bizzi",
      "userId": "14371154040405520361"
     },
     "user_tz": 180
    },
    "id": "6aikz1RlqJbg",
    "outputId": "e38366f5-a9bd-4900-b67a-09cf50aadd33"
   },
   "outputs": [
    {
     "data": {
      "text/plain": [
       "bons pagadores    112031\n",
       "maus pagadores     36639\n",
       "Name: Status, dtype: int64"
      ]
     },
     "execution_count": 97,
     "metadata": {},
     "output_type": "execute_result"
    }
   ],
   "source": [
    "#0 não é aceito pelo gráfico\n",
    "df_status.rename(index={0:'bons pagadores',1:'maus pagadores'}, inplace=True)\n",
    "df_status"
   ]
  },
  {
   "cell_type": "code",
   "execution_count": null,
   "id": "3d6HNjr6qZhH",
   "metadata": {
    "colab": {
     "base_uri": "https://localhost:8080/",
     "height": 281
    },
    "executionInfo": {
     "elapsed": 424,
     "status": "ok",
     "timestamp": 1663975493266,
     "user": {
      "displayName": "Pablo Bizzi",
      "userId": "14371154040405520361"
     },
     "user_tz": 180
    },
    "id": "3d6HNjr6qZhH",
    "outputId": "434a8325-41c3-4eee-a9ac-caee1cbd2477"
   },
   "outputs": [
    {
     "data": {
      "image/png": "[encoded data removed]",
      "text/plain": [
       "<Figure size 432x288 with 1 Axes>"
      ]
     },
     "metadata": {
      "needs_background": "light"
     },
     "output_type": "display_data"
    }
   ],
   "source": [
    "plt.bar(df_status.index,df_status,color=['green','red'])\n",
    "plt.title('Contagem de bons pagadores e devedores');"
   ]
  },
  {
   "cell_type": "markdown",
   "id": "0677a702",
   "metadata": {
    "id": "0677a702"
   },
   "source": [
    "2) Por meio de um gráfico de dispersão, identifique o comportamento da média da variável de interesse (Status) por faixa etária"
   ]
  },
  {
   "cell_type": "code",
   "execution_count": null,
   "id": "9eea0bf7",
   "metadata": {
    "colab": {
     "base_uri": "https://localhost:8080/",
     "height": 300
    },
    "executionInfo": {
     "elapsed": 422,
     "status": "ok",
     "timestamp": 1663975735543,
     "user": {
      "displayName": "Pablo Bizzi",
      "userId": "14371154040405520361"
     },
     "user_tz": 180
    },
    "id": "9eea0bf7",
    "outputId": "726fd81a-0bd3-4b9c-b93d-34227aee4b3c"
   },
   "outputs": [
    {
     "data": {
      "text/html": [
       "\n",
       "  <div id=\"df-e51abb08-0487-44b0-ae47-e594ae067a5d\">\n",
       "    <div class=\"colab-df-container\">\n",
       "      <div>\n",
       "<style scoped>\n",
       "    .dataframe tbody tr th:only-of-type {\n",
       "        vertical-align: middle;\n",
       "    }\n",
       "\n",
       "    .dataframe tbody tr th {\n",
       "        vertical-align: top;\n",
       "    }\n",
       "\n",
       "    .dataframe thead th {\n",
       "        text-align: right;\n",
       "    }\n",
       "</style>\n",
       "<table border=\"1\" class=\"dataframe\">\n",
       "  <thead>\n",
       "    <tr style=\"text-align: right;\">\n",
       "      <th></th>\n",
       "      <th>Status</th>\n",
       "    </tr>\n",
       "    <tr>\n",
       "      <th>age</th>\n",
       "      <th></th>\n",
       "    </tr>\n",
       "  </thead>\n",
       "  <tbody>\n",
       "    <tr>\n",
       "      <th>25-34</th>\n",
       "      <td>0.221920</td>\n",
       "    </tr>\n",
       "    <tr>\n",
       "      <th>35-44</th>\n",
       "      <td>0.222713</td>\n",
       "    </tr>\n",
       "    <tr>\n",
       "      <th>45-54</th>\n",
       "      <td>0.240467</td>\n",
       "    </tr>\n",
       "    <tr>\n",
       "      <th>55-64</th>\n",
       "      <td>0.258868</td>\n",
       "    </tr>\n",
       "    <tr>\n",
       "      <th>65-74</th>\n",
       "      <td>0.268560</td>\n",
       "    </tr>\n",
       "    <tr>\n",
       "      <th>&lt;25</th>\n",
       "      <td>0.289454</td>\n",
       "    </tr>\n",
       "    <tr>\n",
       "      <th>&gt;74</th>\n",
       "      <td>0.300070</td>\n",
       "    </tr>\n",
       "  </tbody>\n",
       "</table>\n",
       "</div>\n",
       "      <button class=\"colab-df-convert\" onclick=\"convertToInteractive('df-e51abb08-0487-44b0-ae47-e594ae067a5d')\"\n",
       "              title=\"Convert this dataframe to an interactive table.\"\n",
       "              style=\"display:none;\">\n",
       "        \n",
       "  <svg xmlns=\"http://www.w3.org/2000/svg\" height=\"24px\"viewBox=\"0 0 24 24\"\n",
       "       width=\"24px\">\n",
       "    <path d=\"M0 0h24v24H0V0z\" fill=\"none\"/>\n",
       "    <path d=\"M18.56 5.44l.94 2.06.94-2.06 2.06-.94-2.06-.94-.94-2.06-.94 2.06-2.06.94zm-11 1L8.5 8.5l.94-2.06 2.06-.94-2.06-.94L8.5 2.5l-.94 2.06-2.06.94zm10 10l.94 2.06.94-2.06 2.06-.94-2.06-.94-.94-2.06-.94 2.06-2.06.94z\"/><path d=\"M17.41 7.96l-1.37-1.37c-.4-.4-.92-.59-1.43-.59-.52 0-1.04.2-1.43.59L10.3 9.45l-7.72 7.72c-.78.78-.78 2.05 0 2.83L4 21.41c.39.39.9.59 1.41.59.51 0 1.02-.2 1.41-.59l7.78-7.78 2.81-2.81c.8-.78.8-2.07 0-2.86zM5.41 20L4 18.59l7.72-7.72 1.47 1.35L5.41 20z\"/>\n",
       "  </svg>\n",
       "      </button>\n",
       "      \n",
       "  <style>\n",
       "    .colab-df-container {\n",
       "      display:flex;\n",
       "      flex-wrap:wrap;\n",
       "      gap: 12px;\n",
       "    }\n",
       "\n",
       "    .colab-df-convert {\n",
       "      background-color: #E8F0FE;\n",
       "      border: none;\n",
       "      border-radius: 50%;\n",
       "      cursor: pointer;\n",
       "      display: none;\n",
       "      fill: #1967D2;\n",
       "      height: 32px;\n",
       "      padding: 0 0 0 0;\n",
       "      width: 32px;\n",
       "    }\n",
       "\n",
       "    .colab-df-convert:hover {\n",
       "      background-color: #E2EBFA;\n",
       "      box-shadow: 0px 1px 2px rgba(60, 64, 67, 0.3), 0px 1px 3px 1px rgba(60, 64, 67, 0.15);\n",
       "      fill: #174EA6;\n",
       "    }\n",
       "\n",
       "    [theme=dark] .colab-df-convert {\n",
       "      background-color: #3B4455;\n",
       "      fill: #D2E3FC;\n",
       "    }\n",
       "\n",
       "    [theme=dark] .colab-df-convert:hover {\n",
       "      background-color: #434B5C;\n",
       "      box-shadow: 0px 1px 3px 1px rgba(0, 0, 0, 0.15);\n",
       "      filter: drop-shadow(0px 1px 2px rgba(0, 0, 0, 0.3));\n",
       "      fill: #FFFFFF;\n",
       "    }\n",
       "  </style>\n",
       "\n",
       "      <script>\n",
       "        const buttonEl =\n",
       "          document.querySelector('#df-e51abb08-0487-44b0-ae47-e594ae067a5d button.colab-df-convert');\n",
       "        buttonEl.style.display =\n",
       "          google.colab.kernel.accessAllowed ? 'block' : 'none';\n",
       "\n",
       "        async function convertToInteractive(key) {\n",
       "          const element = document.querySelector('#df-e51abb08-0487-44b0-ae47-e594ae067a5d');\n",
       "          const dataTable =\n",
       "            await google.colab.kernel.invokeFunction('convertToInteractive',\n",
       "                                                     [key], {});\n",
       "          if (!dataTable) return;\n",
       "\n",
       "          const docLinkHtml = 'Like what you see? Visit the ' +\n",
       "            '<a target=\"_blank\" href=https://colab.research.google.com/notebooks/data_table.ipynb>data table notebook</a>'\n",
       "            + ' to learn more about interactive tables.';\n",
       "          element.innerHTML = '';\n",
       "          dataTable['output_type'] = 'display_data';\n",
       "          await google.colab.output.renderOutput(dataTable, element);\n",
       "          const docLink = document.createElement('div');\n",
       "          docLink.innerHTML = docLinkHtml;\n",
       "          element.appendChild(docLink);\n",
       "        }\n",
       "      </script>\n",
       "    </div>\n",
       "  </div>\n",
       "  "
      ],
      "text/plain": [
       "         Status\n",
       "age            \n",
       "25-34  0.221920\n",
       "35-44  0.222713\n",
       "45-54  0.240467\n",
       "55-64  0.258868\n",
       "65-74  0.268560\n",
       "<25    0.289454\n",
       ">74    0.300070"
      ]
     },
     "execution_count": 99,
     "metadata": {},
     "output_type": "execute_result"
    }
   ],
   "source": [
    "df_status_idade = df_loan.pivot_table(index='age',values='Status',aggfunc='mean')\n",
    "df_status_idade"
   ]
  },
  {
   "cell_type": "code",
   "execution_count": null,
   "id": "4e4af247",
   "metadata": {
    "colab": {
     "base_uri": "https://localhost:8080/",
     "height": 350
    },
    "executionInfo": {
     "elapsed": 435,
     "status": "ok",
     "timestamp": 1663976002102,
     "user": {
      "displayName": "Pablo Bizzi",
      "userId": "14371154040405520361"
     },
     "user_tz": 180
    },
    "id": "4e4af247",
    "outputId": "19eb8666-12c2-44e2-f658-a8302ffafa0b"
   },
   "outputs": [
    {
     "data": {
      "image/png": "[encoded data removed]",
      "text/plain": [
       "<Figure size 1080x360 with 1 Axes>"
      ]
     },
     "metadata": {
      "needs_background": "light"
     },
     "output_type": "display_data"
    }
   ],
   "source": [
    "plt.figure(figsize=(15,5))\n",
    "plt.scatter(x=df_status_idade,y=df_status_idade.index)\n",
    "\n",
    "plt.xlabel('Taxa de Risco')\n",
    "plt.ylabel('Faixa Etária')\n",
    "plt.title('Relação de Risco por Faixa Etária');"
   ]
  },
  {
   "cell_type": "code",
   "execution_count": null,
   "id": "e4226112",
   "metadata": {
    "colab": {
     "base_uri": "https://localhost:8080/",
     "height": 300
    },
    "executionInfo": {
     "elapsed": 6,
     "status": "ok",
     "timestamp": 1663976286156,
     "user": {
      "displayName": "Pablo Bizzi",
      "userId": "14371154040405520361"
     },
     "user_tz": 180
    },
    "id": "e4226112",
    "outputId": "3c46ea20-76b6-4419-94ba-b39c8b8ff1d6"
   },
   "outputs": [
    {
     "data": {
      "text/html": [
       "\n",
       "  <div id=\"df-c0a323b7-ec52-45c4-8767-66f825e30f03\">\n",
       "    <div class=\"colab-df-container\">\n",
       "      <div>\n",
       "<style scoped>\n",
       "    .dataframe tbody tr th:only-of-type {\n",
       "        vertical-align: middle;\n",
       "    }\n",
       "\n",
       "    .dataframe tbody tr th {\n",
       "        vertical-align: top;\n",
       "    }\n",
       "\n",
       "    .dataframe thead th {\n",
       "        text-align: right;\n",
       "    }\n",
       "</style>\n",
       "<table border=\"1\" class=\"dataframe\">\n",
       "  <thead>\n",
       "    <tr style=\"text-align: right;\">\n",
       "      <th></th>\n",
       "      <th>Status</th>\n",
       "    </tr>\n",
       "    <tr>\n",
       "      <th>age</th>\n",
       "      <th></th>\n",
       "    </tr>\n",
       "  </thead>\n",
       "  <tbody>\n",
       "    <tr>\n",
       "      <th>&lt;25</th>\n",
       "      <td>0.289454</td>\n",
       "    </tr>\n",
       "    <tr>\n",
       "      <th>25-34</th>\n",
       "      <td>0.221920</td>\n",
       "    </tr>\n",
       "    <tr>\n",
       "      <th>35-44</th>\n",
       "      <td>0.222713</td>\n",
       "    </tr>\n",
       "    <tr>\n",
       "      <th>45-54</th>\n",
       "      <td>0.240467</td>\n",
       "    </tr>\n",
       "    <tr>\n",
       "      <th>55-64</th>\n",
       "      <td>0.258868</td>\n",
       "    </tr>\n",
       "    <tr>\n",
       "      <th>65-74</th>\n",
       "      <td>0.268560</td>\n",
       "    </tr>\n",
       "    <tr>\n",
       "      <th>&gt;74</th>\n",
       "      <td>0.300070</td>\n",
       "    </tr>\n",
       "  </tbody>\n",
       "</table>\n",
       "</div>\n",
       "      <button class=\"colab-df-convert\" onclick=\"convertToInteractive('df-c0a323b7-ec52-45c4-8767-66f825e30f03')\"\n",
       "              title=\"Convert this dataframe to an interactive table.\"\n",
       "              style=\"display:none;\">\n",
       "        \n",
       "  <svg xmlns=\"http://www.w3.org/2000/svg\" height=\"24px\"viewBox=\"0 0 24 24\"\n",
       "       width=\"24px\">\n",
       "    <path d=\"M0 0h24v24H0V0z\" fill=\"none\"/>\n",
       "    <path d=\"M18.56 5.44l.94 2.06.94-2.06 2.06-.94-2.06-.94-.94-2.06-.94 2.06-2.06.94zm-11 1L8.5 8.5l.94-2.06 2.06-.94-2.06-.94L8.5 2.5l-.94 2.06-2.06.94zm10 10l.94 2.06.94-2.06 2.06-.94-2.06-.94-.94-2.06-.94 2.06-2.06.94z\"/><path d=\"M17.41 7.96l-1.37-1.37c-.4-.4-.92-.59-1.43-.59-.52 0-1.04.2-1.43.59L10.3 9.45l-7.72 7.72c-.78.78-.78 2.05 0 2.83L4 21.41c.39.39.9.59 1.41.59.51 0 1.02-.2 1.41-.59l7.78-7.78 2.81-2.81c.8-.78.8-2.07 0-2.86zM5.41 20L4 18.59l7.72-7.72 1.47 1.35L5.41 20z\"/>\n",
       "  </svg>\n",
       "      </button>\n",
       "      \n",
       "  <style>\n",
       "    .colab-df-container {\n",
       "      display:flex;\n",
       "      flex-wrap:wrap;\n",
       "      gap: 12px;\n",
       "    }\n",
       "\n",
       "    .colab-df-convert {\n",
       "      background-color: #E8F0FE;\n",
       "      border: none;\n",
       "      border-radius: 50%;\n",
       "      cursor: pointer;\n",
       "      display: none;\n",
       "      fill: #1967D2;\n",
       "      height: 32px;\n",
       "      padding: 0 0 0 0;\n",
       "      width: 32px;\n",
       "    }\n",
       "\n",
       "    .colab-df-convert:hover {\n",
       "      background-color: #E2EBFA;\n",
       "      box-shadow: 0px 1px 2px rgba(60, 64, 67, 0.3), 0px 1px 3px 1px rgba(60, 64, 67, 0.15);\n",
       "      fill: #174EA6;\n",
       "    }\n",
       "\n",
       "    [theme=dark] .colab-df-convert {\n",
       "      background-color: #3B4455;\n",
       "      fill: #D2E3FC;\n",
       "    }\n",
       "\n",
       "    [theme=dark] .colab-df-convert:hover {\n",
       "      background-color: #434B5C;\n",
       "      box-shadow: 0px 1px 3px 1px rgba(0, 0, 0, 0.15);\n",
       "      filter: drop-shadow(0px 1px 2px rgba(0, 0, 0, 0.3));\n",
       "      fill: #FFFFFF;\n",
       "    }\n",
       "  </style>\n",
       "\n",
       "      <script>\n",
       "        const buttonEl =\n",
       "          document.querySelector('#df-c0a323b7-ec52-45c4-8767-66f825e30f03 button.colab-df-convert');\n",
       "        buttonEl.style.display =\n",
       "          google.colab.kernel.accessAllowed ? 'block' : 'none';\n",
       "\n",
       "        async function convertToInteractive(key) {\n",
       "          const element = document.querySelector('#df-c0a323b7-ec52-45c4-8767-66f825e30f03');\n",
       "          const dataTable =\n",
       "            await google.colab.kernel.invokeFunction('convertToInteractive',\n",
       "                                                     [key], {});\n",
       "          if (!dataTable) return;\n",
       "\n",
       "          const docLinkHtml = 'Like what you see? Visit the ' +\n",
       "            '<a target=\"_blank\" href=https://colab.research.google.com/notebooks/data_table.ipynb>data table notebook</a>'\n",
       "            + ' to learn more about interactive tables.';\n",
       "          element.innerHTML = '';\n",
       "          dataTable['output_type'] = 'display_data';\n",
       "          await google.colab.output.renderOutput(dataTable, element);\n",
       "          const docLink = document.createElement('div');\n",
       "          docLink.innerHTML = docLinkHtml;\n",
       "          element.appendChild(docLink);\n",
       "        }\n",
       "      </script>\n",
       "    </div>\n",
       "  </div>\n",
       "  "
      ],
      "text/plain": [
       "         Status\n",
       "age            \n",
       "<25    0.289454\n",
       "25-34  0.221920\n",
       "35-44  0.222713\n",
       "45-54  0.240467\n",
       "55-64  0.258868\n",
       "65-74  0.268560\n",
       ">74    0.300070"
      ]
     },
     "execution_count": 104,
     "metadata": {},
     "output_type": "execute_result"
    }
   ],
   "source": [
    "#forçando que os intervalos sigam essa ordem\n",
    "df_loan['age'] = pd.Categorical(df_loan['age'],['<25', '25-34', '35-44', '45-54','55-64','65-74', '>74'],ordered=True)\n",
    "df_status_idade2 = df_loan.pivot_table(index='age',values='Status',aggfunc='mean')\n",
    "df_status_idade2"
   ]
  },
  {
   "cell_type": "code",
   "execution_count": null,
   "id": "-YXc0BX0mF7k",
   "metadata": {
    "colab": {
     "base_uri": "https://localhost:8080/",
     "height": 350
    },
    "executionInfo": {
     "elapsed": 508,
     "status": "ok",
     "timestamp": 1663976310816,
     "user": {
      "displayName": "Pablo Bizzi",
      "userId": "14371154040405520361"
     },
     "user_tz": 180
    },
    "id": "-YXc0BX0mF7k",
    "outputId": "23334829-8318-4dcc-88d7-247d995ee33d"
   },
   "outputs": [
    {
     "data": {
      "image/png": "[encoded data removed]",
      "text/plain": [
       "<Figure size 1080x360 with 1 Axes>"
      ]
     },
     "metadata": {
      "needs_background": "light"
     },
     "output_type": "display_data"
    }
   ],
   "source": [
    "plt.figure(figsize=(15,5))\n",
    "plt.scatter(x=df_status_idade2,y=df_status_idade2.index)\n",
    "\n",
    "plt.xlabel('Taxa de Risco')\n",
    "plt.ylabel('Faixa Etária')\n",
    "plt.title('Relação de Risco por Faixa Etária');"
   ]
  },
  {
   "cell_type": "markdown",
   "id": "0eb2434f",
   "metadata": {
    "id": "0eb2434f"
   },
   "source": [
    "3) Construa o histograma do montante de dívida (loan_amount) e verifique como está sua distribuição. Observe o mesmo com um gráfico boxplot."
   ]
  },
  {
   "cell_type": "code",
   "execution_count": null,
   "id": "afc2f056",
   "metadata": {
    "colab": {
     "base_uri": "https://localhost:8080/",
     "height": 369
    },
    "executionInfo": {
     "elapsed": 1023,
     "status": "ok",
     "timestamp": 1663976760462,
     "user": {
      "displayName": "Pablo Bizzi",
      "userId": "14371154040405520361"
     },
     "user_tz": 180
    },
    "id": "afc2f056",
    "outputId": "30a6a6b1-ffc9-41c9-f5b2-eac6d8461526",
    "scrolled": false
   },
   "outputs": [
    {
     "data": {
      "image/png": "[encoded data removed]",
      "text/plain": [
       "<Figure size 720x360 with 2 Axes>"
      ]
     },
     "metadata": {
      "needs_background": "light"
     },
     "output_type": "display_data"
    }
   ],
   "source": [
    "fig, axs = plt.subplots(1,2,figsize=(10,5))\n",
    "\n",
    "fig.suptitle('Distribuição do montante da dívida',fontsize=12)\n",
    "axs[0].hist(x=df_loan['loan_amount'],color='green')\n",
    "axs[0].set_title('Histograma da Dívida')\n",
    "axs[1].boxplot(df_loan['loan_amount'])\n",
    "axs[1].set_title('Boxplot da Dívida');"
   ]
  },
  {
   "cell_type": "code",
   "execution_count": null,
   "id": "0K3WuR9CvkUl",
   "metadata": {
    "colab": {
     "base_uri": "https://localhost:8080/",
     "height": 356
    },
    "executionInfo": {
     "elapsed": 2421,
     "status": "ok",
     "timestamp": 1663976913067,
     "user": {
      "displayName": "Pablo Bizzi",
      "userId": "14371154040405520361"
     },
     "user_tz": 180
    },
    "id": "0K3WuR9CvkUl",
    "outputId": "31a41f39-d8e0-438f-baa2-598fccd3add6"
   },
   "outputs": [
    {
     "data": {
      "image/png": "[encoded data removed]",
      "text/plain": [
       "<Figure size 720x360 with 4 Axes>"
      ]
     },
     "metadata": {
      "needs_background": "light"
     },
     "output_type": "display_data"
    }
   ],
   "source": [
    "fig, axs = plt.subplots(2,2,figsize=(10,5))\n",
    "\n",
    "fig.suptitle('Distribuição do montante da dívida',fontsize=12)\n",
    "axs[0,0].hist(x=df_loan['loan_amount'],color='green')\n",
    "axs[0,0].set_title('Histograma da Dívida')\n",
    "axs[0,1].hist(x=df_loan['loan_amount'],color='green')\n",
    "axs[0,1].set_title('Histograma da Dívida')\n",
    "axs[1,0].boxplot(df_loan['loan_amount'])\n",
    "axs[1,0].set_title('Boxplot da Dívida')\n",
    "axs[1,1].boxplot(df_loan['loan_amount'])\n",
    "axs[1,1].set_title('Boxplot da Dívida');"
   ]
  },
  {
   "cell_type": "markdown",
   "id": "EgbSqABEmMoL",
   "metadata": {
    "id": "EgbSqABEmMoL"
   },
   "source": [
    "#Atividades\n",
    "\n",
    "###Após a conclusão das atividades, coloque-a em um repositório Git público e envie o link por e-mail para: pablo.bizzi@gmail.com\n",
    "\n",
    "*Obs: Pode ser utilizado um mesmo repositório GIT para todo o módulo."
   ]
  },
  {
   "cell_type": "markdown",
   "id": "7360bc1b",
   "metadata": {
    "id": "7360bc1b"
   },
   "source": [
    "1) Faça um gráfico de dispersão da Credit Score pela média do Status"
   ]
  },
  {
   "cell_type": "code",
   "execution_count": null,
   "id": "cad777dd",
   "metadata": {
    "id": "cad777dd",
    "scrolled": true
   },
   "outputs": [],
   "source": []
  },
  {
   "cell_type": "markdown",
   "id": "a2bm5JCDYnot",
   "metadata": {
    "id": "a2bm5JCDYnot"
   },
   "source": [
    "2) Faça um gráfico de colunas que mostra a media de ganhos (coluna income) por faixa etária"
   ]
  },
  {
   "cell_type": "code",
   "execution_count": null,
   "id": "cyhb5UKEmhSj",
   "metadata": {
    "id": "cyhb5UKEmhSj"
   },
   "outputs": [],
   "source": []
  },
  {
   "cell_type": "markdown",
   "id": "c7cc10b5",
   "metadata": {
    "id": "c7cc10b5"
   },
   "source": [
    "3) Como se encontra a distribuição das faixas-etárias nesta base de dados.  \n",
    "*Obs.: utilize o gráfico de pizza*"
   ]
  },
  {
   "cell_type": "code",
   "execution_count": null,
   "id": "4fb171c5",
   "metadata": {
    "id": "4fb171c5"
   },
   "outputs": [],
   "source": []
  }
 ],
 "metadata": {
  "colab": {
   "provenance": []
  },
  "kernelspec": {
   "display_name": "Python 3 (ipykernel)",
   "language": "python",
   "name": "python3"
  },
  "language_info": {
   "codemirror_mode": {
    "name": "ipython",
    "version": 3
   },
   "file_extension": ".py",
   "mimetype": "text/x-python",
   "name": "python",
   "nbconvert_exporter": "python",
   "pygments_lexer": "ipython3",
   "version": "3.10.5"
  }
 },
 "nbformat": 4,
 "nbformat_minor": 5
}
